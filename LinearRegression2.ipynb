{
 "cells": [
  {
   "cell_type": "markdown",
   "id": "d4eca1c3",
   "metadata": {},
   "source": [
    "*Reference*: https://www.kaggle.com/irinahulea/covid-19-vaccination-progress-eda-predictions/\n",
    "## Project Objectives\n",
    "- What vaccines are used and in which countries?\n",
    "- What country is vaccinated more people?\n",
    "- What country is vaccinated a larger percent from its population?\n",
    "- Make predictions about when countries will reach 25%, 50% and 70% of the population vaccination thresholds\n",
    "- Attempt to work with live data from Google API"
   ]
  },
  {
   "cell_type": "markdown",
   "id": "4697a568",
   "metadata": {},
   "source": [
    "## Importing packages"
   ]
  },
  {
   "cell_type": "code",
   "execution_count": 1,
   "id": "8e904944",
   "metadata": {},
   "outputs": [],
   "source": [
    "import numpy as np\n",
    "import pandas as pd\n",
    "import matplotlib.pyplot as plt\n",
    "import seaborn as sns\n",
    "#import plotly.express as px\n",
    "#from fbprophet import Prophet\n",
    "#from fbprophet.plot import plot_plotly\n",
    "pd.set_option('display.float_format', lambda x: '%.2f' % x)"
   ]
  },
  {
   "cell_type": "markdown",
   "id": "47913088",
   "metadata": {},
   "source": [
    "## Importing and merging data"
   ]
  },
  {
   "cell_type": "code",
   "execution_count": 2,
   "id": "69ce5305",
   "metadata": {},
   "outputs": [
    {
     "data": {
      "text/html": [
       "<div>\n",
       "<style scoped>\n",
       "    .dataframe tbody tr th:only-of-type {\n",
       "        vertical-align: middle;\n",
       "    }\n",
       "\n",
       "    .dataframe tbody tr th {\n",
       "        vertical-align: top;\n",
       "    }\n",
       "\n",
       "    .dataframe thead th {\n",
       "        text-align: right;\n",
       "    }\n",
       "</style>\n",
       "<table border=\"1\" class=\"dataframe\">\n",
       "  <thead>\n",
       "    <tr style=\"text-align: right;\">\n",
       "      <th></th>\n",
       "      <th>country</th>\n",
       "      <th>iso_code</th>\n",
       "      <th>date</th>\n",
       "      <th>total_vaccinations</th>\n",
       "      <th>people_vaccinated</th>\n",
       "      <th>people_fully_vaccinated</th>\n",
       "      <th>daily_vaccinations_raw</th>\n",
       "      <th>daily_vaccinations</th>\n",
       "      <th>total_vaccinations_per_hundred</th>\n",
       "      <th>people_vaccinated_per_hundred</th>\n",
       "      <th>people_fully_vaccinated_per_hundred</th>\n",
       "      <th>daily_vaccinations_per_million</th>\n",
       "      <th>vaccines</th>\n",
       "      <th>source_name</th>\n",
       "      <th>source_website</th>\n",
       "    </tr>\n",
       "  </thead>\n",
       "  <tbody>\n",
       "    <tr>\n",
       "      <th>0</th>\n",
       "      <td>Afghanistan</td>\n",
       "      <td>AFG</td>\n",
       "      <td>2021-02-22</td>\n",
       "      <td>0.00</td>\n",
       "      <td>0.00</td>\n",
       "      <td>NaN</td>\n",
       "      <td>NaN</td>\n",
       "      <td>NaN</td>\n",
       "      <td>0.00</td>\n",
       "      <td>0.00</td>\n",
       "      <td>NaN</td>\n",
       "      <td>NaN</td>\n",
       "      <td>Oxford/AstraZeneca, Pfizer/BioNTech, Sinopharm...</td>\n",
       "      <td>World Health Organization</td>\n",
       "      <td>https://covid19.who.int/</td>\n",
       "    </tr>\n",
       "    <tr>\n",
       "      <th>1</th>\n",
       "      <td>Afghanistan</td>\n",
       "      <td>AFG</td>\n",
       "      <td>2021-02-23</td>\n",
       "      <td>NaN</td>\n",
       "      <td>NaN</td>\n",
       "      <td>NaN</td>\n",
       "      <td>NaN</td>\n",
       "      <td>1367.00</td>\n",
       "      <td>NaN</td>\n",
       "      <td>NaN</td>\n",
       "      <td>NaN</td>\n",
       "      <td>35.00</td>\n",
       "      <td>Oxford/AstraZeneca, Pfizer/BioNTech, Sinopharm...</td>\n",
       "      <td>World Health Organization</td>\n",
       "      <td>https://covid19.who.int/</td>\n",
       "    </tr>\n",
       "    <tr>\n",
       "      <th>2</th>\n",
       "      <td>Afghanistan</td>\n",
       "      <td>AFG</td>\n",
       "      <td>2021-02-24</td>\n",
       "      <td>NaN</td>\n",
       "      <td>NaN</td>\n",
       "      <td>NaN</td>\n",
       "      <td>NaN</td>\n",
       "      <td>1367.00</td>\n",
       "      <td>NaN</td>\n",
       "      <td>NaN</td>\n",
       "      <td>NaN</td>\n",
       "      <td>35.00</td>\n",
       "      <td>Oxford/AstraZeneca, Pfizer/BioNTech, Sinopharm...</td>\n",
       "      <td>World Health Organization</td>\n",
       "      <td>https://covid19.who.int/</td>\n",
       "    </tr>\n",
       "    <tr>\n",
       "      <th>3</th>\n",
       "      <td>Afghanistan</td>\n",
       "      <td>AFG</td>\n",
       "      <td>2021-02-25</td>\n",
       "      <td>NaN</td>\n",
       "      <td>NaN</td>\n",
       "      <td>NaN</td>\n",
       "      <td>NaN</td>\n",
       "      <td>1367.00</td>\n",
       "      <td>NaN</td>\n",
       "      <td>NaN</td>\n",
       "      <td>NaN</td>\n",
       "      <td>35.00</td>\n",
       "      <td>Oxford/AstraZeneca, Pfizer/BioNTech, Sinopharm...</td>\n",
       "      <td>World Health Organization</td>\n",
       "      <td>https://covid19.who.int/</td>\n",
       "    </tr>\n",
       "    <tr>\n",
       "      <th>4</th>\n",
       "      <td>Afghanistan</td>\n",
       "      <td>AFG</td>\n",
       "      <td>2021-02-26</td>\n",
       "      <td>NaN</td>\n",
       "      <td>NaN</td>\n",
       "      <td>NaN</td>\n",
       "      <td>NaN</td>\n",
       "      <td>1367.00</td>\n",
       "      <td>NaN</td>\n",
       "      <td>NaN</td>\n",
       "      <td>NaN</td>\n",
       "      <td>35.00</td>\n",
       "      <td>Oxford/AstraZeneca, Pfizer/BioNTech, Sinopharm...</td>\n",
       "      <td>World Health Organization</td>\n",
       "      <td>https://covid19.who.int/</td>\n",
       "    </tr>\n",
       "  </tbody>\n",
       "</table>\n",
       "</div>"
      ],
      "text/plain": [
       "       country iso_code        date  total_vaccinations  people_vaccinated  \\\n",
       "0  Afghanistan      AFG  2021-02-22                0.00               0.00   \n",
       "1  Afghanistan      AFG  2021-02-23                 NaN                NaN   \n",
       "2  Afghanistan      AFG  2021-02-24                 NaN                NaN   \n",
       "3  Afghanistan      AFG  2021-02-25                 NaN                NaN   \n",
       "4  Afghanistan      AFG  2021-02-26                 NaN                NaN   \n",
       "\n",
       "   people_fully_vaccinated  daily_vaccinations_raw  daily_vaccinations  \\\n",
       "0                      NaN                     NaN                 NaN   \n",
       "1                      NaN                     NaN             1367.00   \n",
       "2                      NaN                     NaN             1367.00   \n",
       "3                      NaN                     NaN             1367.00   \n",
       "4                      NaN                     NaN             1367.00   \n",
       "\n",
       "   total_vaccinations_per_hundred  people_vaccinated_per_hundred  \\\n",
       "0                            0.00                           0.00   \n",
       "1                             NaN                            NaN   \n",
       "2                             NaN                            NaN   \n",
       "3                             NaN                            NaN   \n",
       "4                             NaN                            NaN   \n",
       "\n",
       "   people_fully_vaccinated_per_hundred  daily_vaccinations_per_million  \\\n",
       "0                                  NaN                             NaN   \n",
       "1                                  NaN                           35.00   \n",
       "2                                  NaN                           35.00   \n",
       "3                                  NaN                           35.00   \n",
       "4                                  NaN                           35.00   \n",
       "\n",
       "                                            vaccines  \\\n",
       "0  Oxford/AstraZeneca, Pfizer/BioNTech, Sinopharm...   \n",
       "1  Oxford/AstraZeneca, Pfizer/BioNTech, Sinopharm...   \n",
       "2  Oxford/AstraZeneca, Pfizer/BioNTech, Sinopharm...   \n",
       "3  Oxford/AstraZeneca, Pfizer/BioNTech, Sinopharm...   \n",
       "4  Oxford/AstraZeneca, Pfizer/BioNTech, Sinopharm...   \n",
       "\n",
       "                 source_name            source_website  \n",
       "0  World Health Organization  https://covid19.who.int/  \n",
       "1  World Health Organization  https://covid19.who.int/  \n",
       "2  World Health Organization  https://covid19.who.int/  \n",
       "3  World Health Organization  https://covid19.who.int/  \n",
       "4  World Health Organization  https://covid19.who.int/  "
      ]
     },
     "execution_count": 2,
     "metadata": {},
     "output_type": "execute_result"
    }
   ],
   "source": [
    "#reading in country vaccination data\n",
    "vaccinations = pd.read_csv('country_vaccinations.csv')\n",
    "vaccinations.head()"
   ]
  },
  {
   "cell_type": "code",
   "execution_count": 3,
   "id": "608d63b6",
   "metadata": {},
   "outputs": [
    {
     "data": {
      "text/plain": [
       "(29412, 15)"
      ]
     },
     "execution_count": 3,
     "metadata": {},
     "output_type": "execute_result"
    }
   ],
   "source": [
    "vaccinations.shape"
   ]
  },
  {
   "cell_type": "code",
   "execution_count": 4,
   "id": "0346dc8f",
   "metadata": {},
   "outputs": [
    {
     "data": {
      "text/html": [
       "<div>\n",
       "<style scoped>\n",
       "    .dataframe tbody tr th:only-of-type {\n",
       "        vertical-align: middle;\n",
       "    }\n",
       "\n",
       "    .dataframe tbody tr th {\n",
       "        vertical-align: top;\n",
       "    }\n",
       "\n",
       "    .dataframe thead th {\n",
       "        text-align: right;\n",
       "    }\n",
       "</style>\n",
       "<table border=\"1\" class=\"dataframe\">\n",
       "  <thead>\n",
       "    <tr style=\"text-align: right;\">\n",
       "      <th></th>\n",
       "      <th>date</th>\n",
       "      <th>country</th>\n",
       "      <th>iso_code</th>\n",
       "      <th>daily_vaccinations</th>\n",
       "      <th>people_vaccinated_per_hundred</th>\n",
       "      <th>people_fully_vaccinated</th>\n",
       "      <th>vaccines</th>\n",
       "    </tr>\n",
       "  </thead>\n",
       "  <tbody>\n",
       "    <tr>\n",
       "      <th>0</th>\n",
       "      <td>2021-02-22</td>\n",
       "      <td>Afghanistan</td>\n",
       "      <td>AFG</td>\n",
       "      <td>NaN</td>\n",
       "      <td>0.00</td>\n",
       "      <td>NaN</td>\n",
       "      <td>Oxford/AstraZeneca, Pfizer/BioNTech, Sinopharm...</td>\n",
       "    </tr>\n",
       "    <tr>\n",
       "      <th>1</th>\n",
       "      <td>2021-02-23</td>\n",
       "      <td>Afghanistan</td>\n",
       "      <td>AFG</td>\n",
       "      <td>1367.00</td>\n",
       "      <td>NaN</td>\n",
       "      <td>NaN</td>\n",
       "      <td>Oxford/AstraZeneca, Pfizer/BioNTech, Sinopharm...</td>\n",
       "    </tr>\n",
       "    <tr>\n",
       "      <th>2</th>\n",
       "      <td>2021-02-24</td>\n",
       "      <td>Afghanistan</td>\n",
       "      <td>AFG</td>\n",
       "      <td>1367.00</td>\n",
       "      <td>NaN</td>\n",
       "      <td>NaN</td>\n",
       "      <td>Oxford/AstraZeneca, Pfizer/BioNTech, Sinopharm...</td>\n",
       "    </tr>\n",
       "    <tr>\n",
       "      <th>3</th>\n",
       "      <td>2021-02-25</td>\n",
       "      <td>Afghanistan</td>\n",
       "      <td>AFG</td>\n",
       "      <td>1367.00</td>\n",
       "      <td>NaN</td>\n",
       "      <td>NaN</td>\n",
       "      <td>Oxford/AstraZeneca, Pfizer/BioNTech, Sinopharm...</td>\n",
       "    </tr>\n",
       "    <tr>\n",
       "      <th>4</th>\n",
       "      <td>2021-02-26</td>\n",
       "      <td>Afghanistan</td>\n",
       "      <td>AFG</td>\n",
       "      <td>1367.00</td>\n",
       "      <td>NaN</td>\n",
       "      <td>NaN</td>\n",
       "      <td>Oxford/AstraZeneca, Pfizer/BioNTech, Sinopharm...</td>\n",
       "    </tr>\n",
       "  </tbody>\n",
       "</table>\n",
       "</div>"
      ],
      "text/plain": [
       "         date      country iso_code  daily_vaccinations  \\\n",
       "0  2021-02-22  Afghanistan      AFG                 NaN   \n",
       "1  2021-02-23  Afghanistan      AFG             1367.00   \n",
       "2  2021-02-24  Afghanistan      AFG             1367.00   \n",
       "3  2021-02-25  Afghanistan      AFG             1367.00   \n",
       "4  2021-02-26  Afghanistan      AFG             1367.00   \n",
       "\n",
       "   people_vaccinated_per_hundred  people_fully_vaccinated  \\\n",
       "0                           0.00                      NaN   \n",
       "1                            NaN                      NaN   \n",
       "2                            NaN                      NaN   \n",
       "3                            NaN                      NaN   \n",
       "4                            NaN                      NaN   \n",
       "\n",
       "                                            vaccines  \n",
       "0  Oxford/AstraZeneca, Pfizer/BioNTech, Sinopharm...  \n",
       "1  Oxford/AstraZeneca, Pfizer/BioNTech, Sinopharm...  \n",
       "2  Oxford/AstraZeneca, Pfizer/BioNTech, Sinopharm...  \n",
       "3  Oxford/AstraZeneca, Pfizer/BioNTech, Sinopharm...  \n",
       "4  Oxford/AstraZeneca, Pfizer/BioNTech, Sinopharm...  "
      ]
     },
     "execution_count": 4,
     "metadata": {},
     "output_type": "execute_result"
    }
   ],
   "source": [
    "#keeping useful columns and eliminating the rest\n",
    "vaccinations = vaccinations[['date', \n",
    "                             'country', \n",
    "                             'iso_code', \n",
    "                             'daily_vaccinations', \n",
    "                             'people_vaccinated_per_hundred', \n",
    "                             'people_fully_vaccinated',\n",
    "                             'vaccines',\n",
    "                            ]]\n",
    "vaccinations.head()"
   ]
  },
  {
   "cell_type": "code",
   "execution_count": 5,
   "id": "91905626",
   "metadata": {},
   "outputs": [
    {
     "data": {
      "text/plain": [
       "date        0\n",
       "country     0\n",
       "iso_code    0\n",
       "vaccines    0\n",
       "dtype: int64"
      ]
     },
     "execution_count": 5,
     "metadata": {},
     "output_type": "execute_result"
    }
   ],
   "source": [
    "#checking for categorical NaN's\n",
    "vaccinations.select_dtypes(include=['object']).isnull().sum()"
   ]
  },
  {
   "cell_type": "code",
   "execution_count": 6,
   "id": "af25680c",
   "metadata": {},
   "outputs": [],
   "source": [
    "#fixing iso codes of UK countries\n",
    "vaccinations.loc[vaccinations.country.isin(['England', 'Scotland', 'Wales', 'Northern Ireland']), 'iso_code'] = 'GBR'"
   ]
  },
  {
   "cell_type": "code",
   "execution_count": 7,
   "id": "ae79cab0",
   "metadata": {},
   "outputs": [
    {
     "data": {
      "text/html": [
       "<div>\n",
       "<style scoped>\n",
       "    .dataframe tbody tr th:only-of-type {\n",
       "        vertical-align: middle;\n",
       "    }\n",
       "\n",
       "    .dataframe tbody tr th {\n",
       "        vertical-align: top;\n",
       "    }\n",
       "\n",
       "    .dataframe thead th {\n",
       "        text-align: right;\n",
       "    }\n",
       "</style>\n",
       "<table border=\"1\" class=\"dataframe\">\n",
       "  <thead>\n",
       "    <tr style=\"text-align: right;\">\n",
       "      <th></th>\n",
       "      <th>name</th>\n",
       "      <th>alpha-2</th>\n",
       "      <th>alpha-3</th>\n",
       "      <th>country-code</th>\n",
       "      <th>iso_3166-2</th>\n",
       "      <th>region</th>\n",
       "      <th>sub-region</th>\n",
       "      <th>intermediate-region</th>\n",
       "      <th>region-code</th>\n",
       "      <th>sub-region-code</th>\n",
       "      <th>intermediate-region-code</th>\n",
       "    </tr>\n",
       "  </thead>\n",
       "  <tbody>\n",
       "    <tr>\n",
       "      <th>0</th>\n",
       "      <td>Afghanistan</td>\n",
       "      <td>AF</td>\n",
       "      <td>AFG</td>\n",
       "      <td>4</td>\n",
       "      <td>ISO 3166-2:AF</td>\n",
       "      <td>Asia</td>\n",
       "      <td>Southern Asia</td>\n",
       "      <td>NaN</td>\n",
       "      <td>142.00</td>\n",
       "      <td>34.00</td>\n",
       "      <td>NaN</td>\n",
       "    </tr>\n",
       "    <tr>\n",
       "      <th>1</th>\n",
       "      <td>Åland Islands</td>\n",
       "      <td>AX</td>\n",
       "      <td>ALA</td>\n",
       "      <td>248</td>\n",
       "      <td>ISO 3166-2:AX</td>\n",
       "      <td>Europe</td>\n",
       "      <td>Northern Europe</td>\n",
       "      <td>NaN</td>\n",
       "      <td>150.00</td>\n",
       "      <td>154.00</td>\n",
       "      <td>NaN</td>\n",
       "    </tr>\n",
       "    <tr>\n",
       "      <th>2</th>\n",
       "      <td>Albania</td>\n",
       "      <td>AL</td>\n",
       "      <td>ALB</td>\n",
       "      <td>8</td>\n",
       "      <td>ISO 3166-2:AL</td>\n",
       "      <td>Europe</td>\n",
       "      <td>Southern Europe</td>\n",
       "      <td>NaN</td>\n",
       "      <td>150.00</td>\n",
       "      <td>39.00</td>\n",
       "      <td>NaN</td>\n",
       "    </tr>\n",
       "    <tr>\n",
       "      <th>3</th>\n",
       "      <td>Algeria</td>\n",
       "      <td>DZ</td>\n",
       "      <td>DZA</td>\n",
       "      <td>12</td>\n",
       "      <td>ISO 3166-2:DZ</td>\n",
       "      <td>Africa</td>\n",
       "      <td>Northern Africa</td>\n",
       "      <td>NaN</td>\n",
       "      <td>2.00</td>\n",
       "      <td>15.00</td>\n",
       "      <td>NaN</td>\n",
       "    </tr>\n",
       "    <tr>\n",
       "      <th>4</th>\n",
       "      <td>American Samoa</td>\n",
       "      <td>AS</td>\n",
       "      <td>ASM</td>\n",
       "      <td>16</td>\n",
       "      <td>ISO 3166-2:AS</td>\n",
       "      <td>Oceania</td>\n",
       "      <td>Polynesia</td>\n",
       "      <td>NaN</td>\n",
       "      <td>9.00</td>\n",
       "      <td>61.00</td>\n",
       "      <td>NaN</td>\n",
       "    </tr>\n",
       "  </tbody>\n",
       "</table>\n",
       "</div>"
      ],
      "text/plain": [
       "             name alpha-2 alpha-3  country-code     iso_3166-2   region  \\\n",
       "0     Afghanistan      AF     AFG             4  ISO 3166-2:AF     Asia   \n",
       "1   Åland Islands      AX     ALA           248  ISO 3166-2:AX   Europe   \n",
       "2         Albania      AL     ALB             8  ISO 3166-2:AL   Europe   \n",
       "3         Algeria      DZ     DZA            12  ISO 3166-2:DZ   Africa   \n",
       "4  American Samoa      AS     ASM            16  ISO 3166-2:AS  Oceania   \n",
       "\n",
       "        sub-region intermediate-region  region-code  sub-region-code  \\\n",
       "0    Southern Asia                 NaN       142.00            34.00   \n",
       "1  Northern Europe                 NaN       150.00           154.00   \n",
       "2  Southern Europe                 NaN       150.00            39.00   \n",
       "3  Northern Africa                 NaN         2.00            15.00   \n",
       "4        Polynesia                 NaN         9.00            61.00   \n",
       "\n",
       "   intermediate-region-code  \n",
       "0                       NaN  \n",
       "1                       NaN  \n",
       "2                       NaN  \n",
       "3                       NaN  \n",
       "4                       NaN  "
      ]
     },
     "execution_count": 7,
     "metadata": {},
     "output_type": "execute_result"
    }
   ],
   "source": [
    "#reading in continent data, with the intent of adding regional/sub-regional data\n",
    "continents = pd.read_csv('continents2.csv')\n",
    "continents.head()"
   ]
  },
  {
   "cell_type": "code",
   "execution_count": 8,
   "id": "2d4c3deb",
   "metadata": {},
   "outputs": [
    {
     "data": {
      "text/html": [
       "<div>\n",
       "<style scoped>\n",
       "    .dataframe tbody tr th:only-of-type {\n",
       "        vertical-align: middle;\n",
       "    }\n",
       "\n",
       "    .dataframe tbody tr th {\n",
       "        vertical-align: top;\n",
       "    }\n",
       "\n",
       "    .dataframe thead th {\n",
       "        text-align: right;\n",
       "    }\n",
       "</style>\n",
       "<table border=\"1\" class=\"dataframe\">\n",
       "  <thead>\n",
       "    <tr style=\"text-align: right;\">\n",
       "      <th></th>\n",
       "      <th>date</th>\n",
       "      <th>country</th>\n",
       "      <th>iso_code</th>\n",
       "      <th>daily_vaccinations</th>\n",
       "      <th>people_vaccinated_per_hundred</th>\n",
       "      <th>people_fully_vaccinated</th>\n",
       "      <th>vaccines</th>\n",
       "      <th>region</th>\n",
       "      <th>sub-region</th>\n",
       "    </tr>\n",
       "  </thead>\n",
       "  <tbody>\n",
       "    <tr>\n",
       "      <th>0</th>\n",
       "      <td>2021-02-22</td>\n",
       "      <td>Afghanistan</td>\n",
       "      <td>AFG</td>\n",
       "      <td>NaN</td>\n",
       "      <td>0.00</td>\n",
       "      <td>NaN</td>\n",
       "      <td>Oxford/AstraZeneca, Pfizer/BioNTech, Sinopharm...</td>\n",
       "      <td>Asia</td>\n",
       "      <td>Southern Asia</td>\n",
       "    </tr>\n",
       "    <tr>\n",
       "      <th>1</th>\n",
       "      <td>2021-02-23</td>\n",
       "      <td>Afghanistan</td>\n",
       "      <td>AFG</td>\n",
       "      <td>1367.00</td>\n",
       "      <td>NaN</td>\n",
       "      <td>NaN</td>\n",
       "      <td>Oxford/AstraZeneca, Pfizer/BioNTech, Sinopharm...</td>\n",
       "      <td>Asia</td>\n",
       "      <td>Southern Asia</td>\n",
       "    </tr>\n",
       "    <tr>\n",
       "      <th>2</th>\n",
       "      <td>2021-02-24</td>\n",
       "      <td>Afghanistan</td>\n",
       "      <td>AFG</td>\n",
       "      <td>1367.00</td>\n",
       "      <td>NaN</td>\n",
       "      <td>NaN</td>\n",
       "      <td>Oxford/AstraZeneca, Pfizer/BioNTech, Sinopharm...</td>\n",
       "      <td>Asia</td>\n",
       "      <td>Southern Asia</td>\n",
       "    </tr>\n",
       "    <tr>\n",
       "      <th>3</th>\n",
       "      <td>2021-02-25</td>\n",
       "      <td>Afghanistan</td>\n",
       "      <td>AFG</td>\n",
       "      <td>1367.00</td>\n",
       "      <td>NaN</td>\n",
       "      <td>NaN</td>\n",
       "      <td>Oxford/AstraZeneca, Pfizer/BioNTech, Sinopharm...</td>\n",
       "      <td>Asia</td>\n",
       "      <td>Southern Asia</td>\n",
       "    </tr>\n",
       "    <tr>\n",
       "      <th>4</th>\n",
       "      <td>2021-02-26</td>\n",
       "      <td>Afghanistan</td>\n",
       "      <td>AFG</td>\n",
       "      <td>1367.00</td>\n",
       "      <td>NaN</td>\n",
       "      <td>NaN</td>\n",
       "      <td>Oxford/AstraZeneca, Pfizer/BioNTech, Sinopharm...</td>\n",
       "      <td>Asia</td>\n",
       "      <td>Southern Asia</td>\n",
       "    </tr>\n",
       "  </tbody>\n",
       "</table>\n",
       "</div>"
      ],
      "text/plain": [
       "         date      country iso_code  daily_vaccinations  \\\n",
       "0  2021-02-22  Afghanistan      AFG                 NaN   \n",
       "1  2021-02-23  Afghanistan      AFG             1367.00   \n",
       "2  2021-02-24  Afghanistan      AFG             1367.00   \n",
       "3  2021-02-25  Afghanistan      AFG             1367.00   \n",
       "4  2021-02-26  Afghanistan      AFG             1367.00   \n",
       "\n",
       "   people_vaccinated_per_hundred  people_fully_vaccinated  \\\n",
       "0                           0.00                      NaN   \n",
       "1                            NaN                      NaN   \n",
       "2                            NaN                      NaN   \n",
       "3                            NaN                      NaN   \n",
       "4                            NaN                      NaN   \n",
       "\n",
       "                                            vaccines region     sub-region  \n",
       "0  Oxford/AstraZeneca, Pfizer/BioNTech, Sinopharm...   Asia  Southern Asia  \n",
       "1  Oxford/AstraZeneca, Pfizer/BioNTech, Sinopharm...   Asia  Southern Asia  \n",
       "2  Oxford/AstraZeneca, Pfizer/BioNTech, Sinopharm...   Asia  Southern Asia  \n",
       "3  Oxford/AstraZeneca, Pfizer/BioNTech, Sinopharm...   Asia  Southern Asia  \n",
       "4  Oxford/AstraZeneca, Pfizer/BioNTech, Sinopharm...   Asia  Southern Asia  "
      ]
     },
     "execution_count": 8,
     "metadata": {},
     "output_type": "execute_result"
    }
   ],
   "source": [
    "#merging regional/sub-regional data with country vaccinations data\n",
    "#iso_code column of vaccinations corresponds to alpha-3 columsn of continents\n",
    "data = vaccinations.merge(continents[['alpha-3', 'region', 'sub-region']],\n",
    "                          how='left',\n",
    "                          left_on = 'iso_code',\n",
    "                          right_on = 'alpha-3',\n",
    "                         ).drop(columns=['alpha-3'])\n",
    "data.head()"
   ]
  },
  {
   "cell_type": "code",
   "execution_count": 9,
   "id": "ead461bb",
   "metadata": {},
   "outputs": [
    {
     "data": {
      "text/html": [
       "<div>\n",
       "<style scoped>\n",
       "    .dataframe tbody tr th:only-of-type {\n",
       "        vertical-align: middle;\n",
       "    }\n",
       "\n",
       "    .dataframe tbody tr th {\n",
       "        vertical-align: top;\n",
       "    }\n",
       "\n",
       "    .dataframe thead th {\n",
       "        text-align: right;\n",
       "    }\n",
       "</style>\n",
       "<table border=\"1\" class=\"dataframe\">\n",
       "  <thead>\n",
       "    <tr style=\"text-align: right;\">\n",
       "      <th></th>\n",
       "      <th>date</th>\n",
       "      <th>country</th>\n",
       "      <th>iso_code</th>\n",
       "      <th>daily_vaccinations</th>\n",
       "      <th>people_vaccinated_per_hundred</th>\n",
       "      <th>people_fully_vaccinated</th>\n",
       "      <th>vaccines</th>\n",
       "      <th>continent</th>\n",
       "      <th>region</th>\n",
       "    </tr>\n",
       "  </thead>\n",
       "  <tbody>\n",
       "    <tr>\n",
       "      <th>0</th>\n",
       "      <td>2021-02-22</td>\n",
       "      <td>Afghanistan</td>\n",
       "      <td>AFG</td>\n",
       "      <td>NaN</td>\n",
       "      <td>0.00</td>\n",
       "      <td>NaN</td>\n",
       "      <td>Oxford/AstraZeneca, Pfizer/BioNTech, Sinopharm...</td>\n",
       "      <td>Asia</td>\n",
       "      <td>Southern Asia</td>\n",
       "    </tr>\n",
       "    <tr>\n",
       "      <th>1</th>\n",
       "      <td>2021-02-23</td>\n",
       "      <td>Afghanistan</td>\n",
       "      <td>AFG</td>\n",
       "      <td>1367.00</td>\n",
       "      <td>NaN</td>\n",
       "      <td>NaN</td>\n",
       "      <td>Oxford/AstraZeneca, Pfizer/BioNTech, Sinopharm...</td>\n",
       "      <td>Asia</td>\n",
       "      <td>Southern Asia</td>\n",
       "    </tr>\n",
       "    <tr>\n",
       "      <th>2</th>\n",
       "      <td>2021-02-24</td>\n",
       "      <td>Afghanistan</td>\n",
       "      <td>AFG</td>\n",
       "      <td>1367.00</td>\n",
       "      <td>NaN</td>\n",
       "      <td>NaN</td>\n",
       "      <td>Oxford/AstraZeneca, Pfizer/BioNTech, Sinopharm...</td>\n",
       "      <td>Asia</td>\n",
       "      <td>Southern Asia</td>\n",
       "    </tr>\n",
       "    <tr>\n",
       "      <th>3</th>\n",
       "      <td>2021-02-25</td>\n",
       "      <td>Afghanistan</td>\n",
       "      <td>AFG</td>\n",
       "      <td>1367.00</td>\n",
       "      <td>NaN</td>\n",
       "      <td>NaN</td>\n",
       "      <td>Oxford/AstraZeneca, Pfizer/BioNTech, Sinopharm...</td>\n",
       "      <td>Asia</td>\n",
       "      <td>Southern Asia</td>\n",
       "    </tr>\n",
       "    <tr>\n",
       "      <th>4</th>\n",
       "      <td>2021-02-26</td>\n",
       "      <td>Afghanistan</td>\n",
       "      <td>AFG</td>\n",
       "      <td>1367.00</td>\n",
       "      <td>NaN</td>\n",
       "      <td>NaN</td>\n",
       "      <td>Oxford/AstraZeneca, Pfizer/BioNTech, Sinopharm...</td>\n",
       "      <td>Asia</td>\n",
       "      <td>Southern Asia</td>\n",
       "    </tr>\n",
       "  </tbody>\n",
       "</table>\n",
       "</div>"
      ],
      "text/plain": [
       "         date      country iso_code  daily_vaccinations  \\\n",
       "0  2021-02-22  Afghanistan      AFG                 NaN   \n",
       "1  2021-02-23  Afghanistan      AFG             1367.00   \n",
       "2  2021-02-24  Afghanistan      AFG             1367.00   \n",
       "3  2021-02-25  Afghanistan      AFG             1367.00   \n",
       "4  2021-02-26  Afghanistan      AFG             1367.00   \n",
       "\n",
       "   people_vaccinated_per_hundred  people_fully_vaccinated  \\\n",
       "0                           0.00                      NaN   \n",
       "1                            NaN                      NaN   \n",
       "2                            NaN                      NaN   \n",
       "3                            NaN                      NaN   \n",
       "4                            NaN                      NaN   \n",
       "\n",
       "                                            vaccines continent         region  \n",
       "0  Oxford/AstraZeneca, Pfizer/BioNTech, Sinopharm...      Asia  Southern Asia  \n",
       "1  Oxford/AstraZeneca, Pfizer/BioNTech, Sinopharm...      Asia  Southern Asia  \n",
       "2  Oxford/AstraZeneca, Pfizer/BioNTech, Sinopharm...      Asia  Southern Asia  \n",
       "3  Oxford/AstraZeneca, Pfizer/BioNTech, Sinopharm...      Asia  Southern Asia  \n",
       "4  Oxford/AstraZeneca, Pfizer/BioNTech, Sinopharm...      Asia  Southern Asia  "
      ]
     },
     "execution_count": 9,
     "metadata": {},
     "output_type": "execute_result"
    }
   ],
   "source": [
    "#renaming columns\n",
    "#data.columns = ['date', 'country', 'iso_code', 'daily_vaccinations', 'people_vaccinated_per_hundred', 'vaccines', \n",
    "#                'continent', 'region']\n",
    "data.rename(columns = {\"region\":\"continent\", \"sub-region\":\"region\"}, inplace=True)\n",
    "data.head()"
   ]
  },
  {
   "cell_type": "code",
   "execution_count": 10,
   "id": "a2660870",
   "metadata": {},
   "outputs": [
    {
     "data": {
      "text/plain": [
       "Europe      9354\n",
       "Asia        6953\n",
       "Americas    6260\n",
       "Africa      5308\n",
       "Oceania     1308\n",
       "Name: continent, dtype: int64"
      ]
     },
     "execution_count": 10,
     "metadata": {},
     "output_type": "execute_result"
    }
   ],
   "source": [
    "#split the Americas into North America and South America, and rename Oceania into Australia and Oceania\n",
    "data.continent.value_counts()"
   ]
  },
  {
   "cell_type": "code",
   "execution_count": 11,
   "id": "76c5c95f",
   "metadata": {},
   "outputs": [],
   "source": [
    "data.loc[data.region == 'Northern America', 'continent'] = 'North America'\n",
    "data.loc[data.region == 'Latin America and the Caribbean', 'continent'] = 'South America'"
   ]
  },
  {
   "cell_type": "code",
   "execution_count": 12,
   "id": "bd5ed820",
   "metadata": {},
   "outputs": [],
   "source": [
    "data.loc[data.continent == 'Oceania', 'continent'] = 'Australia and Oceania'"
   ]
  },
  {
   "cell_type": "code",
   "execution_count": 13,
   "id": "949b7822",
   "metadata": {},
   "outputs": [
    {
     "data": {
      "text/plain": [
       "Europe                   9354\n",
       "Asia                     6953\n",
       "South America            5520\n",
       "Africa                   5308\n",
       "Australia and Oceania    1308\n",
       "North America             740\n",
       "Name: continent, dtype: int64"
      ]
     },
     "execution_count": 13,
     "metadata": {},
     "output_type": "execute_result"
    }
   ],
   "source": [
    "data.continent.value_counts()"
   ]
  },
  {
   "cell_type": "code",
   "execution_count": 14,
   "id": "2fa2a92d",
   "metadata": {},
   "outputs": [],
   "source": [
    "#saving progress\n",
    "data.to_pickle(\"vaccinations_merged.pkl\")"
   ]
  },
  {
   "cell_type": "markdown",
   "id": "3aa14d49",
   "metadata": {},
   "source": [
    "## Dealing with missing values"
   ]
  },
  {
   "cell_type": "code",
   "execution_count": 15,
   "id": "018719ae",
   "metadata": {},
   "outputs": [],
   "source": [
    "data = pd.read_pickle(\"vaccinations_merged.pkl\")"
   ]
  },
  {
   "cell_type": "code",
   "execution_count": 16,
   "id": "e714c440",
   "metadata": {},
   "outputs": [
    {
     "data": {
      "text/plain": [
       "date                                 0\n",
       "country                              0\n",
       "iso_code                             0\n",
       "daily_vaccinations                 241\n",
       "people_vaccinated_per_hundred    13851\n",
       "people_fully_vaccinated          16582\n",
       "vaccines                             0\n",
       "continent                          229\n",
       "region                             229\n",
       "dtype: int64"
      ]
     },
     "execution_count": 16,
     "metadata": {},
     "output_type": "execute_result"
    }
   ],
   "source": [
    "data.isnull().sum()"
   ]
  },
  {
   "cell_type": "code",
   "execution_count": 17,
   "id": "e86bc0b6",
   "metadata": {},
   "outputs": [
    {
     "data": {
      "text/plain": [
       "OWID_CYN    134\n",
       "OWID_KOS     95\n",
       "Name: iso_code, dtype: int64"
      ]
     },
     "execution_count": 17,
     "metadata": {},
     "output_type": "execute_result"
    }
   ],
   "source": [
    "data.loc[data.continent.isnull(), 'iso_code'].value_counts()"
   ]
  },
  {
   "cell_type": "markdown",
   "id": "e132434a",
   "metadata": {},
   "source": [
    "### Missing values: continent/region"
   ]
  },
  {
   "cell_type": "code",
   "execution_count": 18,
   "id": "d339c838",
   "metadata": {},
   "outputs": [],
   "source": [
    "#we're missing continent/region for Northern Cyprus and Kosovo.\n",
    "data.loc[data.country == 'Northern Cyprus', 'continent'] = 'Europe'\n",
    "data.loc[data.country == 'Northern Cyprus', 'region'] = 'Southern Europe'\n",
    "\n",
    "data.loc[data.country == 'Kosovo', 'continent'] = 'Asia'\n",
    "data.loc[data.country == 'Kosovo', 'region'] = 'Western Asia'"
   ]
  },
  {
   "cell_type": "code",
   "execution_count": 19,
   "id": "b8aac703",
   "metadata": {},
   "outputs": [
    {
     "data": {
      "text/plain": [
       "date                                 0\n",
       "country                              0\n",
       "iso_code                             0\n",
       "daily_vaccinations                 241\n",
       "people_vaccinated_per_hundred    13851\n",
       "people_fully_vaccinated          16582\n",
       "vaccines                             0\n",
       "continent                            0\n",
       "region                               0\n",
       "dtype: int64"
      ]
     },
     "execution_count": 19,
     "metadata": {},
     "output_type": "execute_result"
    }
   ],
   "source": [
    "#missing values for continent/region have been eliminated.\n",
    "data.isnull().sum()"
   ]
  },
  {
   "cell_type": "markdown",
   "id": "61c9c57e",
   "metadata": {},
   "source": [
    "### Missing values: daily_vaccinations"
   ]
  },
  {
   "cell_type": "code",
   "execution_count": 20,
   "id": "430520be",
   "metadata": {},
   "outputs": [
    {
     "data": {
      "text/plain": [
       "0.008193934448524412"
      ]
     },
     "execution_count": 20,
     "metadata": {},
     "output_type": "execute_result"
    }
   ],
   "source": [
    "#since missing values for daily_vaccinations makes up a very small percentage of the data...\n",
    "data.loc[data.daily_vaccinations.isnull()].shape[0] / data.shape[0]"
   ]
  },
  {
   "cell_type": "code",
   "execution_count": 21,
   "id": "2e4916d1",
   "metadata": {},
   "outputs": [],
   "source": [
    "#I'm going to choose to delete those rows.\n",
    "data = data[~data.daily_vaccinations.isnull()]"
   ]
  },
  {
   "cell_type": "markdown",
   "id": "3d722471",
   "metadata": {},
   "source": [
    "### Missing values: people_vaccinated_per_hundred"
   ]
  },
  {
   "cell_type": "code",
   "execution_count": 22,
   "id": "24f3c2ae",
   "metadata": {},
   "outputs": [
    {
     "data": {
      "text/plain": [
       "0.47410099070995165"
      ]
     },
     "execution_count": 22,
     "metadata": {},
     "output_type": "execute_result"
    }
   ],
   "source": [
    "#people_vaccinated_per_hundred is more problematic, however. \n",
    "data.loc[data.people_vaccinated_per_hundred.isnull()].shape[0] / data.shape[0]"
   ]
  },
  {
   "cell_type": "code",
   "execution_count": 23,
   "id": "09383af0",
   "metadata": {},
   "outputs": [
    {
     "data": {
      "image/png": "[encoded data removed]",
      "text/plain": [
       "<Figure size 1080x360 with 1 Axes>"
      ]
     },
     "metadata": {
      "needs_background": "light"
     },
     "output_type": "display_data"
    }
   ],
   "source": [
    "#visualizing percentage of missing people_vaccinated_per_hundred data by region\n",
    "(data[data.people_vaccinated_per_hundred.isnull()].region.value_counts() / data.region.value_counts()\n",
    ").mul(100).plot.barh(color=\"teal\", figsize=(15,5))\n",
    "\n",
    "plt.title('Missing people_vaccinated_per_hundred')\n",
    "plt.xlabel('percentage (%)')\n",
    "plt.show()"
   ]
  },
  {
   "cell_type": "code",
   "execution_count": 24,
   "id": "69c053ec",
   "metadata": {},
   "outputs": [],
   "source": [
    "#for countries that have people_vaccinated_per_hundred data at some point, we'll replace its missing values with the most recent\n",
    "data.sort_values(by='date', inplace=True)\n",
    "all_countries = list(data.country.unique())\n",
    "\n",
    "for country in all_countries:\n",
    "    data.loc[data.country == country, 'people_vaccinated_per_hundred'] = \\\n",
    "    data.loc[data.country == country, 'people_vaccinated_per_hundred'].fillna(method='bfill').fillna(method='ffill')"
   ]
  },
  {
   "cell_type": "code",
   "execution_count": 25,
   "id": "ead860d2",
   "metadata": {},
   "outputs": [
    {
     "data": {
      "text/plain": [
       "0.0"
      ]
     },
     "execution_count": 25,
     "metadata": {},
     "output_type": "execute_result"
    }
   ],
   "source": [
    "#cool, we've eliminated all missing values for people_vaccinated_per_hundred,\n",
    "#replacing them with the most recent data we could find\n",
    "data.loc[data.people_vaccinated_per_hundred.isnull()].shape[0] / data.shape[0]"
   ]
  },
  {
   "cell_type": "markdown",
   "id": "40ad8587",
   "metadata": {},
   "source": [
    "### Missing values: people_fully_vaccinated"
   ]
  },
  {
   "cell_type": "code",
   "execution_count": 26,
   "id": "67aafc58",
   "metadata": {},
   "outputs": [],
   "source": [
    "#same treatment for people_fully_vaccinated\n",
    "data.sort_values(by='date', inplace=True)\n",
    "all_countries = list(data.country.unique())\n",
    "\n",
    "for country in all_countries:\n",
    "    data.loc[data.country == country, 'people_fully_vaccinated'] = \\\n",
    "    data.loc[data.country == country, 'people_fully_vaccinated'].fillna(method='bfill').fillna(method='ffill')"
   ]
  },
  {
   "cell_type": "code",
   "execution_count": 27,
   "id": "eb18ac9d",
   "metadata": {},
   "outputs": [
    {
     "data": {
      "text/plain": [
       "0.035549004147955164"
      ]
     },
     "execution_count": 27,
     "metadata": {},
     "output_type": "execute_result"
    }
   ],
   "source": [
    "#we've narrowed missing people_fully_vaccinated values down to <4%. Since we're not going to take\n",
    "#averages on this column, we can keep these remaining missing values.\n",
    "data.loc[data.people_fully_vaccinated.isnull()].shape[0] / data.shape[0]"
   ]
  },
  {
   "cell_type": "code",
   "execution_count": 28,
   "id": "e4c2306a",
   "metadata": {},
   "outputs": [
    {
     "data": {
      "text/plain": [
       "date                                0\n",
       "country                             0\n",
       "iso_code                            0\n",
       "daily_vaccinations                  0\n",
       "people_vaccinated_per_hundred       0\n",
       "people_fully_vaccinated          1037\n",
       "vaccines                            0\n",
       "continent                           0\n",
       "region                              0\n",
       "dtype: int64"
      ]
     },
     "execution_count": 28,
     "metadata": {},
     "output_type": "execute_result"
    }
   ],
   "source": [
    "data.isnull().sum()"
   ]
  },
  {
   "cell_type": "code",
   "execution_count": 29,
   "id": "36368965",
   "metadata": {},
   "outputs": [],
   "source": [
    "#saving progress\n",
    "data.to_pickle(\"vaccinations_cleaned.pkl\")"
   ]
  },
  {
   "cell_type": "markdown",
   "id": "461b4573",
   "metadata": {},
   "source": [
    "## Data Analysis"
   ]
  },
  {
   "cell_type": "code",
   "execution_count": 30,
   "id": "d523dc2f",
   "metadata": {},
   "outputs": [],
   "source": [
    "data = pd.read_pickle(\"vaccinations_cleaned.pkl\")"
   ]
  },
  {
   "cell_type": "markdown",
   "id": "fd07702b",
   "metadata": {},
   "source": [
    "### Predicting population vaccination percentages using fbprophet time-series model"
   ]
  },
  {
   "cell_type": "markdown",
   "id": "e8327bf6",
   "metadata": {},
   "source": [
    "#defining a function to make a timeseries prediction\n",
    "def fbprophet_predict_and_plot(data, region_column, region, vaccination_metric, \n",
    "                               min_date = '2020-12-13', max_date='2021-07-06', future_days=10, plot=True):\n",
    "    df = data[(data[region_column] == region) & (data.date <= max_date) & (data.date >= min_date)]\n",
    "    df = df[['date', vaccination_metric]]\n",
    "    df.columns = ['ds', 'y']\n",
    "    model = Prophet(interval_width = 0.95)\n",
    "    model.fit(df)\n",
    "    future = model.make_future_dataframe(periods=future_days)\n",
    "    forecast = model.predict(future)\n",
    "    if plot:\n",
    "        fig = plot_plotly(model, forecast)\n",
    "        fig.show()\n",
    "    else:\n",
    "        return forecast"
   ]
  },
  {
   "cell_type": "markdown",
   "id": "fc2d7951",
   "metadata": {},
   "source": [
    "#China, India, US, Indonesia, Pakistan\n",
    "fbprophet_predict_and_plot(data = data, \n",
    "                           region_column = 'country',\n",
    "                           region = 'United States',\n",
    "                           vaccination_metric = 'people_vaccinated_per_hundred',\n",
    "                           future_days = 70,\n",
    "                          )"
   ]
  },
  {
   "cell_type": "markdown",
   "id": "63ca3517",
   "metadata": {},
   "source": [
    "### Linear Regression"
   ]
  },
  {
   "cell_type": "code",
   "execution_count": 31,
   "id": "cc0424e3",
   "metadata": {},
   "outputs": [],
   "source": [
    "from sklearn.model_selection import train_test_split"
   ]
  },
  {
   "cell_type": "code",
   "execution_count": 32,
   "id": "62985e9d",
   "metadata": {},
   "outputs": [],
   "source": [
    "#grab US-specific data\n",
    "USdata = pd.DataFrame(data[data.country == \"United States\"])"
   ]
  },
  {
   "cell_type": "code",
   "execution_count": 33,
   "id": "9c3d1c0f",
   "metadata": {},
   "outputs": [],
   "source": [
    "import datetime"
   ]
  },
  {
   "cell_type": "code",
   "execution_count": 34,
   "id": "f8f4876a",
   "metadata": {
    "scrolled": true
   },
   "outputs": [
    {
     "data": {
      "text/plain": [
       "date                              object\n",
       "country                           object\n",
       "iso_code                          object\n",
       "daily_vaccinations               float64\n",
       "people_vaccinated_per_hundred    float64\n",
       "people_fully_vaccinated          float64\n",
       "vaccines                          object\n",
       "continent                         object\n",
       "region                            object\n",
       "dateToInt                          int64\n",
       "dtype: object"
      ]
     },
     "execution_count": 34,
     "metadata": {},
     "output_type": "execute_result"
    }
   ],
   "source": [
    "#USdata['date'] = pd.to_datetime(USdata.date, format=\"%Y-%m-%d\")\n",
    "\n",
    "#USdata['dateToInt'] = pd.to_datetime(USdata['date']).view(np.int64)\n",
    "#USdata['dateToInt'] /= 10**(11)\n",
    "\n",
    "#USdata['dateToInt'] = USdata['date'].apply(to_integer)\n",
    "\n",
    "USdata['dateToInt'] = pd.to_datetime(USdata['date'])\n",
    "USdata['dateToInt'] = USdata['dateToInt'].map(datetime.datetime.toordinal)\n",
    "\n",
    "USdata.dtypes"
   ]
  },
  {
   "cell_type": "code",
   "execution_count": 35,
   "id": "d0f96f2b",
   "metadata": {},
   "outputs": [],
   "source": [
    "def dateOf(k):\n",
    "    return datetime.date.fromordinal(k)"
   ]
  },
  {
   "cell_type": "code",
   "execution_count": 36,
   "id": "983c7605",
   "metadata": {
    "scrolled": true
   },
   "outputs": [
    {
     "data": {
      "text/html": [
       "<div>\n",
       "<style scoped>\n",
       "    .dataframe tbody tr th:only-of-type {\n",
       "        vertical-align: middle;\n",
       "    }\n",
       "\n",
       "    .dataframe tbody tr th {\n",
       "        vertical-align: top;\n",
       "    }\n",
       "\n",
       "    .dataframe thead th {\n",
       "        text-align: right;\n",
       "    }\n",
       "</style>\n",
       "<table border=\"1\" class=\"dataframe\">\n",
       "  <thead>\n",
       "    <tr style=\"text-align: right;\">\n",
       "      <th></th>\n",
       "      <th>date</th>\n",
       "      <th>country</th>\n",
       "      <th>iso_code</th>\n",
       "      <th>daily_vaccinations</th>\n",
       "      <th>people_vaccinated_per_hundred</th>\n",
       "      <th>people_fully_vaccinated</th>\n",
       "      <th>vaccines</th>\n",
       "      <th>continent</th>\n",
       "      <th>region</th>\n",
       "      <th>dateToInt</th>\n",
       "    </tr>\n",
       "  </thead>\n",
       "  <tbody>\n",
       "    <tr>\n",
       "      <th>28307</th>\n",
       "      <td>2021-07-02</td>\n",
       "      <td>United States</td>\n",
       "      <td>USA</td>\n",
       "      <td>1087156.00</td>\n",
       "      <td>54.31</td>\n",
       "      <td>156255896.00</td>\n",
       "      <td>Johnson&amp;Johnson, Moderna, Pfizer/BioNTech</td>\n",
       "      <td>North America</td>\n",
       "      <td>Northern America</td>\n",
       "      <td>737973</td>\n",
       "    </tr>\n",
       "    <tr>\n",
       "      <th>28308</th>\n",
       "      <td>2021-07-03</td>\n",
       "      <td>United States</td>\n",
       "      <td>USA</td>\n",
       "      <td>1121064.00</td>\n",
       "      <td>54.45</td>\n",
       "      <td>156982549.00</td>\n",
       "      <td>Johnson&amp;Johnson, Moderna, Pfizer/BioNTech</td>\n",
       "      <td>North America</td>\n",
       "      <td>Northern America</td>\n",
       "      <td>737974</td>\n",
       "    </tr>\n",
       "    <tr>\n",
       "      <th>28309</th>\n",
       "      <td>2021-07-04</td>\n",
       "      <td>United States</td>\n",
       "      <td>USA</td>\n",
       "      <td>1039561.00</td>\n",
       "      <td>54.54</td>\n",
       "      <td>157323738.00</td>\n",
       "      <td>Johnson&amp;Johnson, Moderna, Pfizer/BioNTech</td>\n",
       "      <td>North America</td>\n",
       "      <td>Northern America</td>\n",
       "      <td>737975</td>\n",
       "    </tr>\n",
       "    <tr>\n",
       "      <th>28310</th>\n",
       "      <td>2021-07-05</td>\n",
       "      <td>United States</td>\n",
       "      <td>USA</td>\n",
       "      <td>927847.00</td>\n",
       "      <td>54.63</td>\n",
       "      <td>157636088.00</td>\n",
       "      <td>Johnson&amp;Johnson, Moderna, Pfizer/BioNTech</td>\n",
       "      <td>North America</td>\n",
       "      <td>Northern America</td>\n",
       "      <td>737976</td>\n",
       "    </tr>\n",
       "    <tr>\n",
       "      <th>28311</th>\n",
       "      <td>2021-07-06</td>\n",
       "      <td>United States</td>\n",
       "      <td>USA</td>\n",
       "      <td>865929.00</td>\n",
       "      <td>54.63</td>\n",
       "      <td>157636088.00</td>\n",
       "      <td>Johnson&amp;Johnson, Moderna, Pfizer/BioNTech</td>\n",
       "      <td>North America</td>\n",
       "      <td>Northern America</td>\n",
       "      <td>737977</td>\n",
       "    </tr>\n",
       "  </tbody>\n",
       "</table>\n",
       "</div>"
      ],
      "text/plain": [
       "             date        country iso_code  daily_vaccinations  \\\n",
       "28307  2021-07-02  United States      USA          1087156.00   \n",
       "28308  2021-07-03  United States      USA          1121064.00   \n",
       "28309  2021-07-04  United States      USA          1039561.00   \n",
       "28310  2021-07-05  United States      USA           927847.00   \n",
       "28311  2021-07-06  United States      USA           865929.00   \n",
       "\n",
       "       people_vaccinated_per_hundred  people_fully_vaccinated  \\\n",
       "28307                          54.31             156255896.00   \n",
       "28308                          54.45             156982549.00   \n",
       "28309                          54.54             157323738.00   \n",
       "28310                          54.63             157636088.00   \n",
       "28311                          54.63             157636088.00   \n",
       "\n",
       "                                        vaccines      continent  \\\n",
       "28307  Johnson&Johnson, Moderna, Pfizer/BioNTech  North America   \n",
       "28308  Johnson&Johnson, Moderna, Pfizer/BioNTech  North America   \n",
       "28309  Johnson&Johnson, Moderna, Pfizer/BioNTech  North America   \n",
       "28310  Johnson&Johnson, Moderna, Pfizer/BioNTech  North America   \n",
       "28311  Johnson&Johnson, Moderna, Pfizer/BioNTech  North America   \n",
       "\n",
       "                 region  dateToInt  \n",
       "28307  Northern America     737973  \n",
       "28308  Northern America     737974  \n",
       "28309  Northern America     737975  \n",
       "28310  Northern America     737976  \n",
       "28311  Northern America     737977  "
      ]
     },
     "execution_count": 36,
     "metadata": {},
     "output_type": "execute_result"
    }
   ],
   "source": [
    "USdata.tail()"
   ]
  },
  {
   "cell_type": "code",
   "execution_count": 152,
   "id": "c7dffd63",
   "metadata": {},
   "outputs": [],
   "source": [
    "train, test = \\\n",
    "train_test_split(USdata, test_size=0.2, random_state=123123)"
   ]
  },
  {
   "cell_type": "code",
   "execution_count": 153,
   "id": "e1b26a92",
   "metadata": {},
   "outputs": [
    {
     "data": {
      "text/html": [
       "<div>\n",
       "<style scoped>\n",
       "    .dataframe tbody tr th:only-of-type {\n",
       "        vertical-align: middle;\n",
       "    }\n",
       "\n",
       "    .dataframe tbody tr th {\n",
       "        vertical-align: top;\n",
       "    }\n",
       "\n",
       "    .dataframe thead th {\n",
       "        text-align: right;\n",
       "    }\n",
       "</style>\n",
       "<table border=\"1\" class=\"dataframe\">\n",
       "  <thead>\n",
       "    <tr style=\"text-align: right;\">\n",
       "      <th></th>\n",
       "      <th>date</th>\n",
       "      <th>country</th>\n",
       "      <th>iso_code</th>\n",
       "      <th>daily_vaccinations</th>\n",
       "      <th>people_vaccinated_per_hundred</th>\n",
       "      <th>people_fully_vaccinated</th>\n",
       "      <th>vaccines</th>\n",
       "      <th>continent</th>\n",
       "      <th>region</th>\n",
       "      <th>dateToInt</th>\n",
       "    </tr>\n",
       "  </thead>\n",
       "  <tbody>\n",
       "    <tr>\n",
       "      <th>28174</th>\n",
       "      <td>2021-02-19</td>\n",
       "      <td>United States</td>\n",
       "      <td>USA</td>\n",
       "      <td>1596355.00</td>\n",
       "      <td>12.55</td>\n",
       "      <td>17039118.00</td>\n",
       "      <td>Johnson&amp;Johnson, Moderna, Pfizer/BioNTech</td>\n",
       "      <td>North America</td>\n",
       "      <td>Northern America</td>\n",
       "      <td>737840</td>\n",
       "    </tr>\n",
       "    <tr>\n",
       "      <th>28169</th>\n",
       "      <td>2021-02-14</td>\n",
       "      <td>United States</td>\n",
       "      <td>USA</td>\n",
       "      <td>1667631.00</td>\n",
       "      <td>11.45</td>\n",
       "      <td>14077440.00</td>\n",
       "      <td>Johnson&amp;Johnson, Moderna, Pfizer/BioNTech</td>\n",
       "      <td>North America</td>\n",
       "      <td>Northern America</td>\n",
       "      <td>737835</td>\n",
       "    </tr>\n",
       "    <tr>\n",
       "      <th>28280</th>\n",
       "      <td>2021-06-05</td>\n",
       "      <td>United States</td>\n",
       "      <td>USA</td>\n",
       "      <td>937669.00</td>\n",
       "      <td>50.91</td>\n",
       "      <td>138112702.00</td>\n",
       "      <td>Johnson&amp;Johnson, Moderna, Pfizer/BioNTech</td>\n",
       "      <td>North America</td>\n",
       "      <td>Northern America</td>\n",
       "      <td>737946</td>\n",
       "    </tr>\n",
       "    <tr>\n",
       "      <th>28168</th>\n",
       "      <td>2021-02-13</td>\n",
       "      <td>United States</td>\n",
       "      <td>USA</td>\n",
       "      <td>1657703.00</td>\n",
       "      <td>11.08</td>\n",
       "      <td>13082172.00</td>\n",
       "      <td>Johnson&amp;Johnson, Moderna, Pfizer/BioNTech</td>\n",
       "      <td>North America</td>\n",
       "      <td>Northern America</td>\n",
       "      <td>737834</td>\n",
       "    </tr>\n",
       "    <tr>\n",
       "      <th>28251</th>\n",
       "      <td>2021-05-07</td>\n",
       "      <td>United States</td>\n",
       "      <td>USA</td>\n",
       "      <td>2088522.00</td>\n",
       "      <td>44.98</td>\n",
       "      <td>110874920.00</td>\n",
       "      <td>Johnson&amp;Johnson, Moderna, Pfizer/BioNTech</td>\n",
       "      <td>North America</td>\n",
       "      <td>Northern America</td>\n",
       "      <td>737917</td>\n",
       "    </tr>\n",
       "  </tbody>\n",
       "</table>\n",
       "</div>"
      ],
      "text/plain": [
       "             date        country iso_code  daily_vaccinations  \\\n",
       "28174  2021-02-19  United States      USA          1596355.00   \n",
       "28169  2021-02-14  United States      USA          1667631.00   \n",
       "28280  2021-06-05  United States      USA           937669.00   \n",
       "28168  2021-02-13  United States      USA          1657703.00   \n",
       "28251  2021-05-07  United States      USA          2088522.00   \n",
       "\n",
       "       people_vaccinated_per_hundred  people_fully_vaccinated  \\\n",
       "28174                          12.55              17039118.00   \n",
       "28169                          11.45              14077440.00   \n",
       "28280                          50.91             138112702.00   \n",
       "28168                          11.08              13082172.00   \n",
       "28251                          44.98             110874920.00   \n",
       "\n",
       "                                        vaccines      continent  \\\n",
       "28174  Johnson&Johnson, Moderna, Pfizer/BioNTech  North America   \n",
       "28169  Johnson&Johnson, Moderna, Pfizer/BioNTech  North America   \n",
       "28280  Johnson&Johnson, Moderna, Pfizer/BioNTech  North America   \n",
       "28168  Johnson&Johnson, Moderna, Pfizer/BioNTech  North America   \n",
       "28251  Johnson&Johnson, Moderna, Pfizer/BioNTech  North America   \n",
       "\n",
       "                 region  dateToInt  \n",
       "28174  Northern America     737840  \n",
       "28169  Northern America     737835  \n",
       "28280  Northern America     737946  \n",
       "28168  Northern America     737834  \n",
       "28251  Northern America     737917  "
      ]
     },
     "execution_count": 153,
     "metadata": {},
     "output_type": "execute_result"
    }
   ],
   "source": [
    "train.tail()"
   ]
  },
  {
   "cell_type": "code",
   "execution_count": 154,
   "id": "8b114e19",
   "metadata": {
    "scrolled": true
   },
   "outputs": [
    {
     "data": {
      "text/plain": [
       "datetime.date(2021, 5, 27)"
      ]
     },
     "execution_count": 154,
     "metadata": {},
     "output_type": "execute_result"
    }
   ],
   "source": [
    "dateOf(737937) #train/test split at May 27-28 2021"
   ]
  },
  {
   "cell_type": "code",
   "execution_count": 155,
   "id": "bd95c202",
   "metadata": {
    "scrolled": true
   },
   "outputs": [],
   "source": [
    "from sklearn.linear_model import LinearRegression\n",
    "model = LinearRegression()"
   ]
  },
  {
   "cell_type": "code",
   "execution_count": 156,
   "id": "d8bda930",
   "metadata": {},
   "outputs": [
    {
     "data": {
      "text/plain": [
       "LinearRegression()"
      ]
     },
     "execution_count": 156,
     "metadata": {},
     "output_type": "execute_result"
    }
   ],
   "source": [
    "#fit date against people_vaccinated_per_hundred\n",
    "model.fit(X=train[['dateToInt']],y=train[['people_vaccinated_per_hundred']])"
   ]
  },
  {
   "cell_type": "code",
   "execution_count": 157,
   "id": "a6457bbf",
   "metadata": {},
   "outputs": [
    {
     "data": {
      "text/plain": [
       "array([-245780.85970936])"
      ]
     },
     "execution_count": 157,
     "metadata": {},
     "output_type": "execute_result"
    }
   ],
   "source": [
    "model.intercept_"
   ]
  },
  {
   "cell_type": "code",
   "execution_count": 158,
   "id": "0bf0b785",
   "metadata": {},
   "outputs": [
    {
     "data": {
      "text/plain": [
       "array([[0.33312934]])"
      ]
     },
     "execution_count": 158,
     "metadata": {},
     "output_type": "execute_result"
    }
   ],
   "source": [
    "model.coef_"
   ]
  },
  {
   "cell_type": "code",
   "execution_count": 159,
   "id": "1899ab0b",
   "metadata": {},
   "outputs": [],
   "source": [
    "def abline(slope, intercept):\n",
    "    \"\"\"Plot a line from slope and intercept\"\"\"\n",
    "    axes = plt.gca()\n",
    "    x_vals = np.array(axes.get_xlim())\n",
    "    y_vals = intercept + slope * x_vals\n",
    "    plt.plot(x_vals, y_vals, '--')"
   ]
  },
  {
   "cell_type": "code",
   "execution_count": 174,
   "id": "3e341699",
   "metadata": {
    "scrolled": false
   },
   "outputs": [
    {
     "data": {
      "image/png": "[encoded data removed]",
      "text/plain": [
       "<Figure size 1440x720 with 1 Axes>"
      ]
     },
     "metadata": {
      "needs_background": "light"
     },
     "output_type": "display_data"
    }
   ],
   "source": [
    "plt.figure(figsize=(20, 10))\n",
    "plt.xlim(737780,738050)\n",
    "plt.ylim(0,90)\n",
    "#plt.axvline(737938, color='green',linestyle='--')\n",
    "plt.axvline(738004, ymax=0.78, color='purple',alpha=150)\n",
    "plt.axhline(70, color='purple', xmax=0.83, alpha=150)\n",
    "#ax.set_xlim(738050)\n",
    "plt.rcParams.update({'font.size': 25})\n",
    "plot = sns.regplot(x=train[['dateToInt']], y=train['people_vaccinated_per_hundred'], \n",
    "                  scatter_kws={'color': 'black'}, truncate=False)\n",
    "#plot = sns.scatterplot(data = USdata, x='dateToInt',y='people_vaccinated_per_hundred')\n",
    "plot.yaxis.labelpad,plot.xaxis.labelpad = 40,60\n",
    "#abline(0.35003235,-258252.89748563)\n",
    "\n"
   ]
  },
  {
   "cell_type": "markdown",
   "id": "601432c9",
   "metadata": {},
   "source": [
    "y_pred = model.predict(np.asarray(USdata[[\"dateToInt\"]]).reshape(-1, 1))\n",
    "USdata['pred'] = y_pred\n",
    "\n",
    "ax = USdata.plot(x='dateToInt', y='people_vaccinated_per_hundred', color='black', style='.')\n",
    "USdata.plot(x='dateToInt', y='pred', color='orange', linewidth=3, ax=ax, alpha=0.5)\n",
    "ax.set_title('My Title')\n",
    "ax.set_xlabel('Date')\n",
    "ax.set_ylabel('people_vaccinated_per_hundred')\n",
    "\n",
    "plt.show()\n",
    "#locs,labels = plt.xticks()"
   ]
  },
  {
   "cell_type": "markdown",
   "id": "1047c271",
   "metadata": {},
   "source": [
    "### Linear Regression math & eval"
   ]
  },
  {
   "cell_type": "code",
   "execution_count": 161,
   "id": "8be6951b",
   "metadata": {
    "scrolled": true
   },
   "outputs": [
    {
     "data": {
      "text/plain": [
       "array([[738004.21429498]])"
      ]
     },
     "execution_count": 161,
     "metadata": {},
     "output_type": "execute_result"
    }
   ],
   "source": [
    "#70 = model.intercept_ + model.coef_*Date\n",
    "(70 - model.intercept_)/model.coef_ #rounds to 737992"
   ]
  },
  {
   "cell_type": "code",
   "execution_count": 169,
   "id": "c2ff5a3c",
   "metadata": {},
   "outputs": [
    {
     "data": {
      "text/plain": [
       "datetime.date(2021, 8, 2)"
      ]
     },
     "execution_count": 169,
     "metadata": {},
     "output_type": "execute_result"
    }
   ],
   "source": [
    "dateOf(738004)"
   ]
  },
  {
   "cell_type": "code",
   "execution_count": 163,
   "id": "b2a7d439",
   "metadata": {},
   "outputs": [
    {
     "data": {
      "text/plain": [
       "array([ 4.69426873e+01,  1.46291410e+01, -2.85501684e-02,  1.02984595e+01,\n",
       "        2.96199614e+01,  1.92929518e+01,  5.69365676e+01,  9.70837863e-01,\n",
       "        9.63220080e+00, -1.02793820e+00,  2.52892800e+01,  5.26058862e+01,\n",
       "        3.16187375e+01,  5.19396275e+01,  3.92807124e+01,  3.69488070e+01,\n",
       "       -1.36106754e+00,  1.97022590e+00,  8.96594212e+00,  2.76211854e+01,\n",
       "        4.96077221e+01, -4.02610230e+00, -6.94808856e-01,  1.16309769e+01,\n",
       "        1.09647182e+01,  4.66095580e+01,  2.30335524e+00,  2.09585985e+01,\n",
       "       -3.69297295e+00,  5.52709209e+01,  3.02862201e+01,  6.09341198e+01,\n",
       "        3.82813244e+01,  6.37708519e-01,  5.59371796e+01,  3.06193495e+01,\n",
       "        4.56101699e+01, -3.61679512e-01,  4.16126178e+01,  4.12794885e+01])"
      ]
     },
     "execution_count": 163,
     "metadata": {},
     "output_type": "execute_result"
    }
   ],
   "source": [
    "y_pred = model.predict(test[['dateToInt']])\n",
    "y_pred = y_pred.flatten()\n",
    "y_pred"
   ]
  },
  {
   "cell_type": "code",
   "execution_count": 164,
   "id": "34e275d7",
   "metadata": {},
   "outputs": [
    {
     "data": {
      "text/html": [
       "<div>\n",
       "<style scoped>\n",
       "    .dataframe tbody tr th:only-of-type {\n",
       "        vertical-align: middle;\n",
       "    }\n",
       "\n",
       "    .dataframe tbody tr th {\n",
       "        vertical-align: top;\n",
       "    }\n",
       "\n",
       "    .dataframe thead th {\n",
       "        text-align: right;\n",
       "    }\n",
       "</style>\n",
       "<table border=\"1\" class=\"dataframe\">\n",
       "  <thead>\n",
       "    <tr style=\"text-align: right;\">\n",
       "      <th></th>\n",
       "      <th>actual</th>\n",
       "      <th>predicted</th>\n",
       "      <th>residual</th>\n",
       "    </tr>\n",
       "  </thead>\n",
       "  <tbody>\n",
       "    <tr>\n",
       "      <th>28269</th>\n",
       "      <td>49.15</td>\n",
       "      <td>46.94</td>\n",
       "      <td>2.21</td>\n",
       "    </tr>\n",
       "    <tr>\n",
       "      <th>28172</th>\n",
       "      <td>12.04</td>\n",
       "      <td>14.63</td>\n",
       "      <td>-2.59</td>\n",
       "    </tr>\n",
       "    <tr>\n",
       "      <th>28128</th>\n",
       "      <td>1.36</td>\n",
       "      <td>-0.03</td>\n",
       "      <td>1.39</td>\n",
       "    </tr>\n",
       "    <tr>\n",
       "      <th>28159</th>\n",
       "      <td>8.34</td>\n",
       "      <td>10.30</td>\n",
       "      <td>-1.96</td>\n",
       "    </tr>\n",
       "    <tr>\n",
       "      <th>28217</th>\n",
       "      <td>31.16</td>\n",
       "      <td>29.62</td>\n",
       "      <td>1.54</td>\n",
       "    </tr>\n",
       "    <tr>\n",
       "      <th>28186</th>\n",
       "      <td>15.80</td>\n",
       "      <td>19.29</td>\n",
       "      <td>-3.49</td>\n",
       "    </tr>\n",
       "    <tr>\n",
       "      <th>28299</th>\n",
       "      <td>53.32</td>\n",
       "      <td>56.94</td>\n",
       "      <td>-3.62</td>\n",
       "    </tr>\n",
       "    <tr>\n",
       "      <th>28131</th>\n",
       "      <td>1.77</td>\n",
       "      <td>0.97</td>\n",
       "      <td>0.80</td>\n",
       "    </tr>\n",
       "    <tr>\n",
       "      <th>28157</th>\n",
       "      <td>7.91</td>\n",
       "      <td>9.63</td>\n",
       "      <td>-1.72</td>\n",
       "    </tr>\n",
       "    <tr>\n",
       "      <th>28125</th>\n",
       "      <td>1.26</td>\n",
       "      <td>-1.03</td>\n",
       "      <td>2.29</td>\n",
       "    </tr>\n",
       "    <tr>\n",
       "      <th>28204</th>\n",
       "      <td>24.34</td>\n",
       "      <td>25.29</td>\n",
       "      <td>-0.95</td>\n",
       "    </tr>\n",
       "    <tr>\n",
       "      <th>28286</th>\n",
       "      <td>51.66</td>\n",
       "      <td>52.61</td>\n",
       "      <td>-0.95</td>\n",
       "    </tr>\n",
       "    <tr>\n",
       "      <th>28223</th>\n",
       "      <td>34.22</td>\n",
       "      <td>31.62</td>\n",
       "      <td>2.60</td>\n",
       "    </tr>\n",
       "    <tr>\n",
       "      <th>28284</th>\n",
       "      <td>51.45</td>\n",
       "      <td>51.94</td>\n",
       "      <td>-0.49</td>\n",
       "    </tr>\n",
       "    <tr>\n",
       "      <th>28246</th>\n",
       "      <td>43.97</td>\n",
       "      <td>39.28</td>\n",
       "      <td>4.69</td>\n",
       "    </tr>\n",
       "    <tr>\n",
       "      <th>28239</th>\n",
       "      <td>41.85</td>\n",
       "      <td>36.95</td>\n",
       "      <td>4.90</td>\n",
       "    </tr>\n",
       "    <tr>\n",
       "      <th>28124</th>\n",
       "      <td>1.26</td>\n",
       "      <td>-1.36</td>\n",
       "      <td>2.62</td>\n",
       "    </tr>\n",
       "    <tr>\n",
       "      <th>28134</th>\n",
       "      <td>2.69</td>\n",
       "      <td>1.97</td>\n",
       "      <td>0.72</td>\n",
       "    </tr>\n",
       "    <tr>\n",
       "      <th>28155</th>\n",
       "      <td>7.54</td>\n",
       "      <td>8.97</td>\n",
       "      <td>-1.43</td>\n",
       "    </tr>\n",
       "    <tr>\n",
       "      <th>28211</th>\n",
       "      <td>28.00</td>\n",
       "      <td>27.62</td>\n",
       "      <td>0.38</td>\n",
       "    </tr>\n",
       "    <tr>\n",
       "      <th>28277</th>\n",
       "      <td>50.45</td>\n",
       "      <td>49.61</td>\n",
       "      <td>0.84</td>\n",
       "    </tr>\n",
       "    <tr>\n",
       "      <th>28116</th>\n",
       "      <td>0.30</td>\n",
       "      <td>-4.03</td>\n",
       "      <td>4.33</td>\n",
       "    </tr>\n",
       "    <tr>\n",
       "      <th>28126</th>\n",
       "      <td>1.26</td>\n",
       "      <td>-0.69</td>\n",
       "      <td>1.95</td>\n",
       "    </tr>\n",
       "    <tr>\n",
       "      <th>28163</th>\n",
       "      <td>9.67</td>\n",
       "      <td>11.63</td>\n",
       "      <td>-1.96</td>\n",
       "    </tr>\n",
       "    <tr>\n",
       "      <th>28161</th>\n",
       "      <td>9.05</td>\n",
       "      <td>10.96</td>\n",
       "      <td>-1.91</td>\n",
       "    </tr>\n",
       "    <tr>\n",
       "      <th>28268</th>\n",
       "      <td>49.01</td>\n",
       "      <td>46.61</td>\n",
       "      <td>2.40</td>\n",
       "    </tr>\n",
       "    <tr>\n",
       "      <th>28135</th>\n",
       "      <td>2.69</td>\n",
       "      <td>2.30</td>\n",
       "      <td>0.39</td>\n",
       "    </tr>\n",
       "    <tr>\n",
       "      <th>28191</th>\n",
       "      <td>17.94</td>\n",
       "      <td>20.96</td>\n",
       "      <td>-3.02</td>\n",
       "    </tr>\n",
       "    <tr>\n",
       "      <th>28117</th>\n",
       "      <td>0.58</td>\n",
       "      <td>-3.69</td>\n",
       "      <td>4.27</td>\n",
       "    </tr>\n",
       "    <tr>\n",
       "      <th>28294</th>\n",
       "      <td>52.85</td>\n",
       "      <td>55.27</td>\n",
       "      <td>-2.42</td>\n",
       "    </tr>\n",
       "    <tr>\n",
       "      <th>28219</th>\n",
       "      <td>32.15</td>\n",
       "      <td>30.29</td>\n",
       "      <td>1.86</td>\n",
       "    </tr>\n",
       "    <tr>\n",
       "      <th>28311</th>\n",
       "      <td>54.63</td>\n",
       "      <td>60.93</td>\n",
       "      <td>-6.30</td>\n",
       "    </tr>\n",
       "    <tr>\n",
       "      <th>28243</th>\n",
       "      <td>43.00</td>\n",
       "      <td>38.28</td>\n",
       "      <td>4.72</td>\n",
       "    </tr>\n",
       "    <tr>\n",
       "      <th>28130</th>\n",
       "      <td>1.59</td>\n",
       "      <td>0.64</td>\n",
       "      <td>0.95</td>\n",
       "    </tr>\n",
       "    <tr>\n",
       "      <th>28296</th>\n",
       "      <td>53.03</td>\n",
       "      <td>55.94</td>\n",
       "      <td>-2.91</td>\n",
       "    </tr>\n",
       "    <tr>\n",
       "      <th>28220</th>\n",
       "      <td>32.38</td>\n",
       "      <td>30.62</td>\n",
       "      <td>1.76</td>\n",
       "    </tr>\n",
       "    <tr>\n",
       "      <th>28265</th>\n",
       "      <td>48.22</td>\n",
       "      <td>45.61</td>\n",
       "      <td>2.61</td>\n",
       "    </tr>\n",
       "    <tr>\n",
       "      <th>28127</th>\n",
       "      <td>1.36</td>\n",
       "      <td>-0.36</td>\n",
       "      <td>1.72</td>\n",
       "    </tr>\n",
       "    <tr>\n",
       "      <th>28253</th>\n",
       "      <td>45.48</td>\n",
       "      <td>41.61</td>\n",
       "      <td>3.87</td>\n",
       "    </tr>\n",
       "    <tr>\n",
       "      <th>28252</th>\n",
       "      <td>45.24</td>\n",
       "      <td>41.28</td>\n",
       "      <td>3.96</td>\n",
       "    </tr>\n",
       "  </tbody>\n",
       "</table>\n",
       "</div>"
      ],
      "text/plain": [
       "       actual  predicted  residual\n",
       "28269   49.15      46.94      2.21\n",
       "28172   12.04      14.63     -2.59\n",
       "28128    1.36      -0.03      1.39\n",
       "28159    8.34      10.30     -1.96\n",
       "28217   31.16      29.62      1.54\n",
       "28186   15.80      19.29     -3.49\n",
       "28299   53.32      56.94     -3.62\n",
       "28131    1.77       0.97      0.80\n",
       "28157    7.91       9.63     -1.72\n",
       "28125    1.26      -1.03      2.29\n",
       "28204   24.34      25.29     -0.95\n",
       "28286   51.66      52.61     -0.95\n",
       "28223   34.22      31.62      2.60\n",
       "28284   51.45      51.94     -0.49\n",
       "28246   43.97      39.28      4.69\n",
       "28239   41.85      36.95      4.90\n",
       "28124    1.26      -1.36      2.62\n",
       "28134    2.69       1.97      0.72\n",
       "28155    7.54       8.97     -1.43\n",
       "28211   28.00      27.62      0.38\n",
       "28277   50.45      49.61      0.84\n",
       "28116    0.30      -4.03      4.33\n",
       "28126    1.26      -0.69      1.95\n",
       "28163    9.67      11.63     -1.96\n",
       "28161    9.05      10.96     -1.91\n",
       "28268   49.01      46.61      2.40\n",
       "28135    2.69       2.30      0.39\n",
       "28191   17.94      20.96     -3.02\n",
       "28117    0.58      -3.69      4.27\n",
       "28294   52.85      55.27     -2.42\n",
       "28219   32.15      30.29      1.86\n",
       "28311   54.63      60.93     -6.30\n",
       "28243   43.00      38.28      4.72\n",
       "28130    1.59       0.64      0.95\n",
       "28296   53.03      55.94     -2.91\n",
       "28220   32.38      30.62      1.76\n",
       "28265   48.22      45.61      2.61\n",
       "28127    1.36      -0.36      1.72\n",
       "28253   45.48      41.61      3.87\n",
       "28252   45.24      41.28      3.96"
      ]
     },
     "execution_count": 164,
     "metadata": {},
     "output_type": "execute_result"
    }
   ],
   "source": [
    "pred=pd.DataFrame( {'actual':test['people_vaccinated_per_hundred'], 'predicted':y_pred})\n",
    "pred['residual'] = pred.actual - pred.predicted\n",
    "\n",
    "pred"
   ]
  },
  {
   "cell_type": "code",
   "execution_count": 175,
   "id": "98a51d4c",
   "metadata": {},
   "outputs": [],
   "source": [
    "from sklearn.metrics import mean_squared_error, mean_absolute_error, r2_score"
   ]
  },
  {
   "cell_type": "code",
   "execution_count": 176,
   "id": "e955eaec",
   "metadata": {},
   "outputs": [
    {
     "data": {
      "text/plain": [
       "7.661668016118878"
      ]
     },
     "execution_count": 176,
     "metadata": {},
     "output_type": "execute_result"
    }
   ],
   "source": [
    "mean_squared_error(y_true=test['people_vaccinated_per_hundred'], y_pred=y_pred)"
   ]
  },
  {
   "cell_type": "code",
   "execution_count": 179,
   "id": "a569c09b",
   "metadata": {},
   "outputs": [
    {
     "data": {
      "text/plain": [
       "2.3872255233468893"
      ]
     },
     "execution_count": 179,
     "metadata": {},
     "output_type": "execute_result"
    }
   ],
   "source": [
    "mean_absolute_error(y_true=test['people_vaccinated_per_hundred'], y_pred=y_pred)"
   ]
  },
  {
   "cell_type": "code",
   "execution_count": 180,
   "id": "811b219f",
   "metadata": {
    "scrolled": true
   },
   "outputs": [
    {
     "data": {
      "text/plain": [
       "0.9817442693994762"
      ]
     },
     "execution_count": 180,
     "metadata": {},
     "output_type": "execute_result"
    }
   ],
   "source": [
    "r2_score(y_true=test['people_vaccinated_per_hundred'], y_pred=y_pred)"
   ]
  },
  {
   "cell_type": "markdown",
   "id": "16b8b93c",
   "metadata": {},
   "source": [
    "???????????"
   ]
  },
  {
   "cell_type": "code",
   "execution_count": 93,
   "id": "0661a97c",
   "metadata": {},
   "outputs": [],
   "source": [
    "RSS,TSS=0,0\n",
    "\n",
    "#Manual R2-Score\n",
    "for i in pred['residual']:\n",
    "    RSS+=i**2\n",
    "\n",
    "mean = pred['actual'].mean()\n",
    "\n",
    "for i in pred['actual']:\n",
    "    TSS+= (i-mean)**2\n",
    "\n"
   ]
  },
  {
   "cell_type": "code",
   "execution_count": null,
   "id": "4ea8af2b",
   "metadata": {},
   "outputs": [],
   "source": []
  },
  {
   "cell_type": "code",
   "execution_count": null,
   "id": "75b2a507",
   "metadata": {},
   "outputs": [],
   "source": []
  }
 ],
 "metadata": {
  "kernelspec": {
   "display_name": "Python 3",
   "language": "python",
   "name": "python3"
  },
  "language_info": {
   "codemirror_mode": {
    "name": "ipython",
    "version": 3
   },
   "file_extension": ".py",
   "mimetype": "text/x-python",
   "name": "python",
   "nbconvert_exporter": "python",
   "pygments_lexer": "ipython3",
   "version": "3.8.8"
  }
 },
 "nbformat": 4,
 "nbformat_minor": 5
}
