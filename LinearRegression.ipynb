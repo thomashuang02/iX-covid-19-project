{
 "cells": [
  {
   "cell_type": "markdown",
   "id": "d4eca1c3",
   "metadata": {},
   "source": [
    "*Reference*: https://www.kaggle.com/irinahulea/covid-19-vaccination-progress-eda-predictions/\n",
    "## Project Objectives\n",
    "- What vaccines are used and in which countries?\n",
    "- What country is vaccinated more people?\n",
    "- What country is vaccinated a larger percent from its population?\n",
    "- Make predictions about when countries will reach 25%, 50% and 70% of the population vaccination thresholds\n",
    "- Attempt to work with live data from Google API"
   ]
  },
  {
   "cell_type": "markdown",
   "id": "4697a568",
   "metadata": {},
   "source": [
    "## Importing packages"
   ]
  },
  {
   "cell_type": "code",
   "execution_count": 330,
   "id": "8e904944",
   "metadata": {},
   "outputs": [],
   "source": [
    "import numpy as np\n",
    "import pandas as pd\n",
    "import matplotlib.pyplot as plt\n",
    "import seaborn as sns\n",
    "#import plotly.express as px\n",
    "#from fbprophet import Prophet\n",
    "#from fbprophet.plot import plot_plotly\n",
    "pd.set_option('display.float_format', lambda x: '%.2f' % x)"
   ]
  },
  {
   "cell_type": "markdown",
   "id": "47913088",
   "metadata": {},
   "source": [
    "## Importing and merging data"
   ]
  },
  {
   "cell_type": "code",
   "execution_count": 331,
   "id": "69ce5305",
   "metadata": {},
   "outputs": [
    {
     "data": {
      "text/html": [
       "<div>\n",
       "<style scoped>\n",
       "    .dataframe tbody tr th:only-of-type {\n",
       "        vertical-align: middle;\n",
       "    }\n",
       "\n",
       "    .dataframe tbody tr th {\n",
       "        vertical-align: top;\n",
       "    }\n",
       "\n",
       "    .dataframe thead th {\n",
       "        text-align: right;\n",
       "    }\n",
       "</style>\n",
       "<table border=\"1\" class=\"dataframe\">\n",
       "  <thead>\n",
       "    <tr style=\"text-align: right;\">\n",
       "      <th></th>\n",
       "      <th>country</th>\n",
       "      <th>iso_code</th>\n",
       "      <th>date</th>\n",
       "      <th>total_vaccinations</th>\n",
       "      <th>people_vaccinated</th>\n",
       "      <th>people_fully_vaccinated</th>\n",
       "      <th>daily_vaccinations_raw</th>\n",
       "      <th>daily_vaccinations</th>\n",
       "      <th>total_vaccinations_per_hundred</th>\n",
       "      <th>people_vaccinated_per_hundred</th>\n",
       "      <th>people_fully_vaccinated_per_hundred</th>\n",
       "      <th>daily_vaccinations_per_million</th>\n",
       "      <th>vaccines</th>\n",
       "      <th>source_name</th>\n",
       "      <th>source_website</th>\n",
       "    </tr>\n",
       "  </thead>\n",
       "  <tbody>\n",
       "    <tr>\n",
       "      <th>0</th>\n",
       "      <td>Afghanistan</td>\n",
       "      <td>AFG</td>\n",
       "      <td>2021-02-22</td>\n",
       "      <td>0.00</td>\n",
       "      <td>0.00</td>\n",
       "      <td>NaN</td>\n",
       "      <td>NaN</td>\n",
       "      <td>NaN</td>\n",
       "      <td>0.00</td>\n",
       "      <td>0.00</td>\n",
       "      <td>NaN</td>\n",
       "      <td>NaN</td>\n",
       "      <td>Oxford/AstraZeneca, Pfizer/BioNTech, Sinopharm...</td>\n",
       "      <td>World Health Organization</td>\n",
       "      <td>https://covid19.who.int/</td>\n",
       "    </tr>\n",
       "    <tr>\n",
       "      <th>1</th>\n",
       "      <td>Afghanistan</td>\n",
       "      <td>AFG</td>\n",
       "      <td>2021-02-23</td>\n",
       "      <td>NaN</td>\n",
       "      <td>NaN</td>\n",
       "      <td>NaN</td>\n",
       "      <td>NaN</td>\n",
       "      <td>1367.00</td>\n",
       "      <td>NaN</td>\n",
       "      <td>NaN</td>\n",
       "      <td>NaN</td>\n",
       "      <td>35.00</td>\n",
       "      <td>Oxford/AstraZeneca, Pfizer/BioNTech, Sinopharm...</td>\n",
       "      <td>World Health Organization</td>\n",
       "      <td>https://covid19.who.int/</td>\n",
       "    </tr>\n",
       "    <tr>\n",
       "      <th>2</th>\n",
       "      <td>Afghanistan</td>\n",
       "      <td>AFG</td>\n",
       "      <td>2021-02-24</td>\n",
       "      <td>NaN</td>\n",
       "      <td>NaN</td>\n",
       "      <td>NaN</td>\n",
       "      <td>NaN</td>\n",
       "      <td>1367.00</td>\n",
       "      <td>NaN</td>\n",
       "      <td>NaN</td>\n",
       "      <td>NaN</td>\n",
       "      <td>35.00</td>\n",
       "      <td>Oxford/AstraZeneca, Pfizer/BioNTech, Sinopharm...</td>\n",
       "      <td>World Health Organization</td>\n",
       "      <td>https://covid19.who.int/</td>\n",
       "    </tr>\n",
       "    <tr>\n",
       "      <th>3</th>\n",
       "      <td>Afghanistan</td>\n",
       "      <td>AFG</td>\n",
       "      <td>2021-02-25</td>\n",
       "      <td>NaN</td>\n",
       "      <td>NaN</td>\n",
       "      <td>NaN</td>\n",
       "      <td>NaN</td>\n",
       "      <td>1367.00</td>\n",
       "      <td>NaN</td>\n",
       "      <td>NaN</td>\n",
       "      <td>NaN</td>\n",
       "      <td>35.00</td>\n",
       "      <td>Oxford/AstraZeneca, Pfizer/BioNTech, Sinopharm...</td>\n",
       "      <td>World Health Organization</td>\n",
       "      <td>https://covid19.who.int/</td>\n",
       "    </tr>\n",
       "    <tr>\n",
       "      <th>4</th>\n",
       "      <td>Afghanistan</td>\n",
       "      <td>AFG</td>\n",
       "      <td>2021-02-26</td>\n",
       "      <td>NaN</td>\n",
       "      <td>NaN</td>\n",
       "      <td>NaN</td>\n",
       "      <td>NaN</td>\n",
       "      <td>1367.00</td>\n",
       "      <td>NaN</td>\n",
       "      <td>NaN</td>\n",
       "      <td>NaN</td>\n",
       "      <td>35.00</td>\n",
       "      <td>Oxford/AstraZeneca, Pfizer/BioNTech, Sinopharm...</td>\n",
       "      <td>World Health Organization</td>\n",
       "      <td>https://covid19.who.int/</td>\n",
       "    </tr>\n",
       "  </tbody>\n",
       "</table>\n",
       "</div>"
      ],
      "text/plain": [
       "       country iso_code        date  total_vaccinations  people_vaccinated  \\\n",
       "0  Afghanistan      AFG  2021-02-22                0.00               0.00   \n",
       "1  Afghanistan      AFG  2021-02-23                 NaN                NaN   \n",
       "2  Afghanistan      AFG  2021-02-24                 NaN                NaN   \n",
       "3  Afghanistan      AFG  2021-02-25                 NaN                NaN   \n",
       "4  Afghanistan      AFG  2021-02-26                 NaN                NaN   \n",
       "\n",
       "   people_fully_vaccinated  daily_vaccinations_raw  daily_vaccinations  \\\n",
       "0                      NaN                     NaN                 NaN   \n",
       "1                      NaN                     NaN             1367.00   \n",
       "2                      NaN                     NaN             1367.00   \n",
       "3                      NaN                     NaN             1367.00   \n",
       "4                      NaN                     NaN             1367.00   \n",
       "\n",
       "   total_vaccinations_per_hundred  people_vaccinated_per_hundred  \\\n",
       "0                            0.00                           0.00   \n",
       "1                             NaN                            NaN   \n",
       "2                             NaN                            NaN   \n",
       "3                             NaN                            NaN   \n",
       "4                             NaN                            NaN   \n",
       "\n",
       "   people_fully_vaccinated_per_hundred  daily_vaccinations_per_million  \\\n",
       "0                                  NaN                             NaN   \n",
       "1                                  NaN                           35.00   \n",
       "2                                  NaN                           35.00   \n",
       "3                                  NaN                           35.00   \n",
       "4                                  NaN                           35.00   \n",
       "\n",
       "                                            vaccines  \\\n",
       "0  Oxford/AstraZeneca, Pfizer/BioNTech, Sinopharm...   \n",
       "1  Oxford/AstraZeneca, Pfizer/BioNTech, Sinopharm...   \n",
       "2  Oxford/AstraZeneca, Pfizer/BioNTech, Sinopharm...   \n",
       "3  Oxford/AstraZeneca, Pfizer/BioNTech, Sinopharm...   \n",
       "4  Oxford/AstraZeneca, Pfizer/BioNTech, Sinopharm...   \n",
       "\n",
       "                 source_name            source_website  \n",
       "0  World Health Organization  https://covid19.who.int/  \n",
       "1  World Health Organization  https://covid19.who.int/  \n",
       "2  World Health Organization  https://covid19.who.int/  \n",
       "3  World Health Organization  https://covid19.who.int/  \n",
       "4  World Health Organization  https://covid19.who.int/  "
      ]
     },
     "execution_count": 331,
     "metadata": {},
     "output_type": "execute_result"
    }
   ],
   "source": [
    "#reading in country vaccination data\n",
    "vaccinations = pd.read_csv('country_vaccinations.csv')\n",
    "vaccinations.head()"
   ]
  },
  {
   "cell_type": "code",
   "execution_count": 332,
   "id": "608d63b6",
   "metadata": {},
   "outputs": [
    {
     "data": {
      "text/plain": [
       "(29412, 15)"
      ]
     },
     "execution_count": 332,
     "metadata": {},
     "output_type": "execute_result"
    }
   ],
   "source": [
    "vaccinations.shape"
   ]
  },
  {
   "cell_type": "code",
   "execution_count": 333,
   "id": "0346dc8f",
   "metadata": {},
   "outputs": [
    {
     "data": {
      "text/html": [
       "<div>\n",
       "<style scoped>\n",
       "    .dataframe tbody tr th:only-of-type {\n",
       "        vertical-align: middle;\n",
       "    }\n",
       "\n",
       "    .dataframe tbody tr th {\n",
       "        vertical-align: top;\n",
       "    }\n",
       "\n",
       "    .dataframe thead th {\n",
       "        text-align: right;\n",
       "    }\n",
       "</style>\n",
       "<table border=\"1\" class=\"dataframe\">\n",
       "  <thead>\n",
       "    <tr style=\"text-align: right;\">\n",
       "      <th></th>\n",
       "      <th>date</th>\n",
       "      <th>country</th>\n",
       "      <th>iso_code</th>\n",
       "      <th>daily_vaccinations</th>\n",
       "      <th>people_vaccinated_per_hundred</th>\n",
       "      <th>people_fully_vaccinated</th>\n",
       "      <th>vaccines</th>\n",
       "    </tr>\n",
       "  </thead>\n",
       "  <tbody>\n",
       "    <tr>\n",
       "      <th>0</th>\n",
       "      <td>2021-02-22</td>\n",
       "      <td>Afghanistan</td>\n",
       "      <td>AFG</td>\n",
       "      <td>NaN</td>\n",
       "      <td>0.00</td>\n",
       "      <td>NaN</td>\n",
       "      <td>Oxford/AstraZeneca, Pfizer/BioNTech, Sinopharm...</td>\n",
       "    </tr>\n",
       "    <tr>\n",
       "      <th>1</th>\n",
       "      <td>2021-02-23</td>\n",
       "      <td>Afghanistan</td>\n",
       "      <td>AFG</td>\n",
       "      <td>1367.00</td>\n",
       "      <td>NaN</td>\n",
       "      <td>NaN</td>\n",
       "      <td>Oxford/AstraZeneca, Pfizer/BioNTech, Sinopharm...</td>\n",
       "    </tr>\n",
       "    <tr>\n",
       "      <th>2</th>\n",
       "      <td>2021-02-24</td>\n",
       "      <td>Afghanistan</td>\n",
       "      <td>AFG</td>\n",
       "      <td>1367.00</td>\n",
       "      <td>NaN</td>\n",
       "      <td>NaN</td>\n",
       "      <td>Oxford/AstraZeneca, Pfizer/BioNTech, Sinopharm...</td>\n",
       "    </tr>\n",
       "    <tr>\n",
       "      <th>3</th>\n",
       "      <td>2021-02-25</td>\n",
       "      <td>Afghanistan</td>\n",
       "      <td>AFG</td>\n",
       "      <td>1367.00</td>\n",
       "      <td>NaN</td>\n",
       "      <td>NaN</td>\n",
       "      <td>Oxford/AstraZeneca, Pfizer/BioNTech, Sinopharm...</td>\n",
       "    </tr>\n",
       "    <tr>\n",
       "      <th>4</th>\n",
       "      <td>2021-02-26</td>\n",
       "      <td>Afghanistan</td>\n",
       "      <td>AFG</td>\n",
       "      <td>1367.00</td>\n",
       "      <td>NaN</td>\n",
       "      <td>NaN</td>\n",
       "      <td>Oxford/AstraZeneca, Pfizer/BioNTech, Sinopharm...</td>\n",
       "    </tr>\n",
       "  </tbody>\n",
       "</table>\n",
       "</div>"
      ],
      "text/plain": [
       "         date      country iso_code  daily_vaccinations  \\\n",
       "0  2021-02-22  Afghanistan      AFG                 NaN   \n",
       "1  2021-02-23  Afghanistan      AFG             1367.00   \n",
       "2  2021-02-24  Afghanistan      AFG             1367.00   \n",
       "3  2021-02-25  Afghanistan      AFG             1367.00   \n",
       "4  2021-02-26  Afghanistan      AFG             1367.00   \n",
       "\n",
       "   people_vaccinated_per_hundred  people_fully_vaccinated  \\\n",
       "0                           0.00                      NaN   \n",
       "1                            NaN                      NaN   \n",
       "2                            NaN                      NaN   \n",
       "3                            NaN                      NaN   \n",
       "4                            NaN                      NaN   \n",
       "\n",
       "                                            vaccines  \n",
       "0  Oxford/AstraZeneca, Pfizer/BioNTech, Sinopharm...  \n",
       "1  Oxford/AstraZeneca, Pfizer/BioNTech, Sinopharm...  \n",
       "2  Oxford/AstraZeneca, Pfizer/BioNTech, Sinopharm...  \n",
       "3  Oxford/AstraZeneca, Pfizer/BioNTech, Sinopharm...  \n",
       "4  Oxford/AstraZeneca, Pfizer/BioNTech, Sinopharm...  "
      ]
     },
     "execution_count": 333,
     "metadata": {},
     "output_type": "execute_result"
    }
   ],
   "source": [
    "#keeping useful columns and eliminating the rest\n",
    "vaccinations = vaccinations[['date', \n",
    "                             'country', \n",
    "                             'iso_code', \n",
    "                             'daily_vaccinations', \n",
    "                             'people_vaccinated_per_hundred', \n",
    "                             'people_fully_vaccinated',\n",
    "                             'vaccines',\n",
    "                            ]]\n",
    "vaccinations.head()"
   ]
  },
  {
   "cell_type": "code",
   "execution_count": 334,
   "id": "91905626",
   "metadata": {},
   "outputs": [
    {
     "data": {
      "text/plain": [
       "date        0\n",
       "country     0\n",
       "iso_code    0\n",
       "vaccines    0\n",
       "dtype: int64"
      ]
     },
     "execution_count": 334,
     "metadata": {},
     "output_type": "execute_result"
    }
   ],
   "source": [
    "#checking for categorical NaN's\n",
    "vaccinations.select_dtypes(include=['object']).isnull().sum()"
   ]
  },
  {
   "cell_type": "code",
   "execution_count": 335,
   "id": "af25680c",
   "metadata": {},
   "outputs": [],
   "source": [
    "#fixing iso codes of UK countries\n",
    "vaccinations.loc[vaccinations.country.isin(['England', 'Scotland', 'Wales', 'Northern Ireland']), 'iso_code'] = 'GBR'"
   ]
  },
  {
   "cell_type": "code",
   "execution_count": 336,
   "id": "ae79cab0",
   "metadata": {},
   "outputs": [
    {
     "data": {
      "text/html": [
       "<div>\n",
       "<style scoped>\n",
       "    .dataframe tbody tr th:only-of-type {\n",
       "        vertical-align: middle;\n",
       "    }\n",
       "\n",
       "    .dataframe tbody tr th {\n",
       "        vertical-align: top;\n",
       "    }\n",
       "\n",
       "    .dataframe thead th {\n",
       "        text-align: right;\n",
       "    }\n",
       "</style>\n",
       "<table border=\"1\" class=\"dataframe\">\n",
       "  <thead>\n",
       "    <tr style=\"text-align: right;\">\n",
       "      <th></th>\n",
       "      <th>name</th>\n",
       "      <th>alpha-2</th>\n",
       "      <th>alpha-3</th>\n",
       "      <th>country-code</th>\n",
       "      <th>iso_3166-2</th>\n",
       "      <th>region</th>\n",
       "      <th>sub-region</th>\n",
       "      <th>intermediate-region</th>\n",
       "      <th>region-code</th>\n",
       "      <th>sub-region-code</th>\n",
       "      <th>intermediate-region-code</th>\n",
       "    </tr>\n",
       "  </thead>\n",
       "  <tbody>\n",
       "    <tr>\n",
       "      <th>0</th>\n",
       "      <td>Afghanistan</td>\n",
       "      <td>AF</td>\n",
       "      <td>AFG</td>\n",
       "      <td>4</td>\n",
       "      <td>ISO 3166-2:AF</td>\n",
       "      <td>Asia</td>\n",
       "      <td>Southern Asia</td>\n",
       "      <td>NaN</td>\n",
       "      <td>142.00</td>\n",
       "      <td>34.00</td>\n",
       "      <td>NaN</td>\n",
       "    </tr>\n",
       "    <tr>\n",
       "      <th>1</th>\n",
       "      <td>Åland Islands</td>\n",
       "      <td>AX</td>\n",
       "      <td>ALA</td>\n",
       "      <td>248</td>\n",
       "      <td>ISO 3166-2:AX</td>\n",
       "      <td>Europe</td>\n",
       "      <td>Northern Europe</td>\n",
       "      <td>NaN</td>\n",
       "      <td>150.00</td>\n",
       "      <td>154.00</td>\n",
       "      <td>NaN</td>\n",
       "    </tr>\n",
       "    <tr>\n",
       "      <th>2</th>\n",
       "      <td>Albania</td>\n",
       "      <td>AL</td>\n",
       "      <td>ALB</td>\n",
       "      <td>8</td>\n",
       "      <td>ISO 3166-2:AL</td>\n",
       "      <td>Europe</td>\n",
       "      <td>Southern Europe</td>\n",
       "      <td>NaN</td>\n",
       "      <td>150.00</td>\n",
       "      <td>39.00</td>\n",
       "      <td>NaN</td>\n",
       "    </tr>\n",
       "    <tr>\n",
       "      <th>3</th>\n",
       "      <td>Algeria</td>\n",
       "      <td>DZ</td>\n",
       "      <td>DZA</td>\n",
       "      <td>12</td>\n",
       "      <td>ISO 3166-2:DZ</td>\n",
       "      <td>Africa</td>\n",
       "      <td>Northern Africa</td>\n",
       "      <td>NaN</td>\n",
       "      <td>2.00</td>\n",
       "      <td>15.00</td>\n",
       "      <td>NaN</td>\n",
       "    </tr>\n",
       "    <tr>\n",
       "      <th>4</th>\n",
       "      <td>American Samoa</td>\n",
       "      <td>AS</td>\n",
       "      <td>ASM</td>\n",
       "      <td>16</td>\n",
       "      <td>ISO 3166-2:AS</td>\n",
       "      <td>Oceania</td>\n",
       "      <td>Polynesia</td>\n",
       "      <td>NaN</td>\n",
       "      <td>9.00</td>\n",
       "      <td>61.00</td>\n",
       "      <td>NaN</td>\n",
       "    </tr>\n",
       "  </tbody>\n",
       "</table>\n",
       "</div>"
      ],
      "text/plain": [
       "             name alpha-2 alpha-3  country-code     iso_3166-2   region  \\\n",
       "0     Afghanistan      AF     AFG             4  ISO 3166-2:AF     Asia   \n",
       "1   Åland Islands      AX     ALA           248  ISO 3166-2:AX   Europe   \n",
       "2         Albania      AL     ALB             8  ISO 3166-2:AL   Europe   \n",
       "3         Algeria      DZ     DZA            12  ISO 3166-2:DZ   Africa   \n",
       "4  American Samoa      AS     ASM            16  ISO 3166-2:AS  Oceania   \n",
       "\n",
       "        sub-region intermediate-region  region-code  sub-region-code  \\\n",
       "0    Southern Asia                 NaN       142.00            34.00   \n",
       "1  Northern Europe                 NaN       150.00           154.00   \n",
       "2  Southern Europe                 NaN       150.00            39.00   \n",
       "3  Northern Africa                 NaN         2.00            15.00   \n",
       "4        Polynesia                 NaN         9.00            61.00   \n",
       "\n",
       "   intermediate-region-code  \n",
       "0                       NaN  \n",
       "1                       NaN  \n",
       "2                       NaN  \n",
       "3                       NaN  \n",
       "4                       NaN  "
      ]
     },
     "execution_count": 336,
     "metadata": {},
     "output_type": "execute_result"
    }
   ],
   "source": [
    "#reading in continent data, with the intent of adding regional/sub-regional data\n",
    "continents = pd.read_csv('continents2.csv')\n",
    "continents.head()"
   ]
  },
  {
   "cell_type": "code",
   "execution_count": 337,
   "id": "2d4c3deb",
   "metadata": {},
   "outputs": [
    {
     "data": {
      "text/html": [
       "<div>\n",
       "<style scoped>\n",
       "    .dataframe tbody tr th:only-of-type {\n",
       "        vertical-align: middle;\n",
       "    }\n",
       "\n",
       "    .dataframe tbody tr th {\n",
       "        vertical-align: top;\n",
       "    }\n",
       "\n",
       "    .dataframe thead th {\n",
       "        text-align: right;\n",
       "    }\n",
       "</style>\n",
       "<table border=\"1\" class=\"dataframe\">\n",
       "  <thead>\n",
       "    <tr style=\"text-align: right;\">\n",
       "      <th></th>\n",
       "      <th>date</th>\n",
       "      <th>country</th>\n",
       "      <th>iso_code</th>\n",
       "      <th>daily_vaccinations</th>\n",
       "      <th>people_vaccinated_per_hundred</th>\n",
       "      <th>people_fully_vaccinated</th>\n",
       "      <th>vaccines</th>\n",
       "      <th>region</th>\n",
       "      <th>sub-region</th>\n",
       "    </tr>\n",
       "  </thead>\n",
       "  <tbody>\n",
       "    <tr>\n",
       "      <th>0</th>\n",
       "      <td>2021-02-22</td>\n",
       "      <td>Afghanistan</td>\n",
       "      <td>AFG</td>\n",
       "      <td>NaN</td>\n",
       "      <td>0.00</td>\n",
       "      <td>NaN</td>\n",
       "      <td>Oxford/AstraZeneca, Pfizer/BioNTech, Sinopharm...</td>\n",
       "      <td>Asia</td>\n",
       "      <td>Southern Asia</td>\n",
       "    </tr>\n",
       "    <tr>\n",
       "      <th>1</th>\n",
       "      <td>2021-02-23</td>\n",
       "      <td>Afghanistan</td>\n",
       "      <td>AFG</td>\n",
       "      <td>1367.00</td>\n",
       "      <td>NaN</td>\n",
       "      <td>NaN</td>\n",
       "      <td>Oxford/AstraZeneca, Pfizer/BioNTech, Sinopharm...</td>\n",
       "      <td>Asia</td>\n",
       "      <td>Southern Asia</td>\n",
       "    </tr>\n",
       "    <tr>\n",
       "      <th>2</th>\n",
       "      <td>2021-02-24</td>\n",
       "      <td>Afghanistan</td>\n",
       "      <td>AFG</td>\n",
       "      <td>1367.00</td>\n",
       "      <td>NaN</td>\n",
       "      <td>NaN</td>\n",
       "      <td>Oxford/AstraZeneca, Pfizer/BioNTech, Sinopharm...</td>\n",
       "      <td>Asia</td>\n",
       "      <td>Southern Asia</td>\n",
       "    </tr>\n",
       "    <tr>\n",
       "      <th>3</th>\n",
       "      <td>2021-02-25</td>\n",
       "      <td>Afghanistan</td>\n",
       "      <td>AFG</td>\n",
       "      <td>1367.00</td>\n",
       "      <td>NaN</td>\n",
       "      <td>NaN</td>\n",
       "      <td>Oxford/AstraZeneca, Pfizer/BioNTech, Sinopharm...</td>\n",
       "      <td>Asia</td>\n",
       "      <td>Southern Asia</td>\n",
       "    </tr>\n",
       "    <tr>\n",
       "      <th>4</th>\n",
       "      <td>2021-02-26</td>\n",
       "      <td>Afghanistan</td>\n",
       "      <td>AFG</td>\n",
       "      <td>1367.00</td>\n",
       "      <td>NaN</td>\n",
       "      <td>NaN</td>\n",
       "      <td>Oxford/AstraZeneca, Pfizer/BioNTech, Sinopharm...</td>\n",
       "      <td>Asia</td>\n",
       "      <td>Southern Asia</td>\n",
       "    </tr>\n",
       "  </tbody>\n",
       "</table>\n",
       "</div>"
      ],
      "text/plain": [
       "         date      country iso_code  daily_vaccinations  \\\n",
       "0  2021-02-22  Afghanistan      AFG                 NaN   \n",
       "1  2021-02-23  Afghanistan      AFG             1367.00   \n",
       "2  2021-02-24  Afghanistan      AFG             1367.00   \n",
       "3  2021-02-25  Afghanistan      AFG             1367.00   \n",
       "4  2021-02-26  Afghanistan      AFG             1367.00   \n",
       "\n",
       "   people_vaccinated_per_hundred  people_fully_vaccinated  \\\n",
       "0                           0.00                      NaN   \n",
       "1                            NaN                      NaN   \n",
       "2                            NaN                      NaN   \n",
       "3                            NaN                      NaN   \n",
       "4                            NaN                      NaN   \n",
       "\n",
       "                                            vaccines region     sub-region  \n",
       "0  Oxford/AstraZeneca, Pfizer/BioNTech, Sinopharm...   Asia  Southern Asia  \n",
       "1  Oxford/AstraZeneca, Pfizer/BioNTech, Sinopharm...   Asia  Southern Asia  \n",
       "2  Oxford/AstraZeneca, Pfizer/BioNTech, Sinopharm...   Asia  Southern Asia  \n",
       "3  Oxford/AstraZeneca, Pfizer/BioNTech, Sinopharm...   Asia  Southern Asia  \n",
       "4  Oxford/AstraZeneca, Pfizer/BioNTech, Sinopharm...   Asia  Southern Asia  "
      ]
     },
     "execution_count": 337,
     "metadata": {},
     "output_type": "execute_result"
    }
   ],
   "source": [
    "#merging regional/sub-regional data with country vaccinations data\n",
    "#iso_code column of vaccinations corresponds to alpha-3 columsn of continents\n",
    "data = vaccinations.merge(continents[['alpha-3', 'region', 'sub-region']],\n",
    "                          how='left',\n",
    "                          left_on = 'iso_code',\n",
    "                          right_on = 'alpha-3',\n",
    "                         ).drop(columns=['alpha-3'])\n",
    "data.head()"
   ]
  },
  {
   "cell_type": "code",
   "execution_count": 338,
   "id": "ead461bb",
   "metadata": {},
   "outputs": [
    {
     "data": {
      "text/html": [
       "<div>\n",
       "<style scoped>\n",
       "    .dataframe tbody tr th:only-of-type {\n",
       "        vertical-align: middle;\n",
       "    }\n",
       "\n",
       "    .dataframe tbody tr th {\n",
       "        vertical-align: top;\n",
       "    }\n",
       "\n",
       "    .dataframe thead th {\n",
       "        text-align: right;\n",
       "    }\n",
       "</style>\n",
       "<table border=\"1\" class=\"dataframe\">\n",
       "  <thead>\n",
       "    <tr style=\"text-align: right;\">\n",
       "      <th></th>\n",
       "      <th>date</th>\n",
       "      <th>country</th>\n",
       "      <th>iso_code</th>\n",
       "      <th>daily_vaccinations</th>\n",
       "      <th>people_vaccinated_per_hundred</th>\n",
       "      <th>people_fully_vaccinated</th>\n",
       "      <th>vaccines</th>\n",
       "      <th>continent</th>\n",
       "      <th>region</th>\n",
       "    </tr>\n",
       "  </thead>\n",
       "  <tbody>\n",
       "    <tr>\n",
       "      <th>0</th>\n",
       "      <td>2021-02-22</td>\n",
       "      <td>Afghanistan</td>\n",
       "      <td>AFG</td>\n",
       "      <td>NaN</td>\n",
       "      <td>0.00</td>\n",
       "      <td>NaN</td>\n",
       "      <td>Oxford/AstraZeneca, Pfizer/BioNTech, Sinopharm...</td>\n",
       "      <td>Asia</td>\n",
       "      <td>Southern Asia</td>\n",
       "    </tr>\n",
       "    <tr>\n",
       "      <th>1</th>\n",
       "      <td>2021-02-23</td>\n",
       "      <td>Afghanistan</td>\n",
       "      <td>AFG</td>\n",
       "      <td>1367.00</td>\n",
       "      <td>NaN</td>\n",
       "      <td>NaN</td>\n",
       "      <td>Oxford/AstraZeneca, Pfizer/BioNTech, Sinopharm...</td>\n",
       "      <td>Asia</td>\n",
       "      <td>Southern Asia</td>\n",
       "    </tr>\n",
       "    <tr>\n",
       "      <th>2</th>\n",
       "      <td>2021-02-24</td>\n",
       "      <td>Afghanistan</td>\n",
       "      <td>AFG</td>\n",
       "      <td>1367.00</td>\n",
       "      <td>NaN</td>\n",
       "      <td>NaN</td>\n",
       "      <td>Oxford/AstraZeneca, Pfizer/BioNTech, Sinopharm...</td>\n",
       "      <td>Asia</td>\n",
       "      <td>Southern Asia</td>\n",
       "    </tr>\n",
       "    <tr>\n",
       "      <th>3</th>\n",
       "      <td>2021-02-25</td>\n",
       "      <td>Afghanistan</td>\n",
       "      <td>AFG</td>\n",
       "      <td>1367.00</td>\n",
       "      <td>NaN</td>\n",
       "      <td>NaN</td>\n",
       "      <td>Oxford/AstraZeneca, Pfizer/BioNTech, Sinopharm...</td>\n",
       "      <td>Asia</td>\n",
       "      <td>Southern Asia</td>\n",
       "    </tr>\n",
       "    <tr>\n",
       "      <th>4</th>\n",
       "      <td>2021-02-26</td>\n",
       "      <td>Afghanistan</td>\n",
       "      <td>AFG</td>\n",
       "      <td>1367.00</td>\n",
       "      <td>NaN</td>\n",
       "      <td>NaN</td>\n",
       "      <td>Oxford/AstraZeneca, Pfizer/BioNTech, Sinopharm...</td>\n",
       "      <td>Asia</td>\n",
       "      <td>Southern Asia</td>\n",
       "    </tr>\n",
       "  </tbody>\n",
       "</table>\n",
       "</div>"
      ],
      "text/plain": [
       "         date      country iso_code  daily_vaccinations  \\\n",
       "0  2021-02-22  Afghanistan      AFG                 NaN   \n",
       "1  2021-02-23  Afghanistan      AFG             1367.00   \n",
       "2  2021-02-24  Afghanistan      AFG             1367.00   \n",
       "3  2021-02-25  Afghanistan      AFG             1367.00   \n",
       "4  2021-02-26  Afghanistan      AFG             1367.00   \n",
       "\n",
       "   people_vaccinated_per_hundred  people_fully_vaccinated  \\\n",
       "0                           0.00                      NaN   \n",
       "1                            NaN                      NaN   \n",
       "2                            NaN                      NaN   \n",
       "3                            NaN                      NaN   \n",
       "4                            NaN                      NaN   \n",
       "\n",
       "                                            vaccines continent         region  \n",
       "0  Oxford/AstraZeneca, Pfizer/BioNTech, Sinopharm...      Asia  Southern Asia  \n",
       "1  Oxford/AstraZeneca, Pfizer/BioNTech, Sinopharm...      Asia  Southern Asia  \n",
       "2  Oxford/AstraZeneca, Pfizer/BioNTech, Sinopharm...      Asia  Southern Asia  \n",
       "3  Oxford/AstraZeneca, Pfizer/BioNTech, Sinopharm...      Asia  Southern Asia  \n",
       "4  Oxford/AstraZeneca, Pfizer/BioNTech, Sinopharm...      Asia  Southern Asia  "
      ]
     },
     "execution_count": 338,
     "metadata": {},
     "output_type": "execute_result"
    }
   ],
   "source": [
    "#renaming columns\n",
    "#data.columns = ['date', 'country', 'iso_code', 'daily_vaccinations', 'people_vaccinated_per_hundred', 'vaccines', \n",
    "#                'continent', 'region']\n",
    "data.rename(columns = {\"region\":\"continent\", \"sub-region\":\"region\"}, inplace=True)\n",
    "data.head()"
   ]
  },
  {
   "cell_type": "code",
   "execution_count": 339,
   "id": "a2660870",
   "metadata": {},
   "outputs": [
    {
     "data": {
      "text/plain": [
       "Europe      9354\n",
       "Asia        6953\n",
       "Americas    6260\n",
       "Africa      5308\n",
       "Oceania     1308\n",
       "Name: continent, dtype: int64"
      ]
     },
     "execution_count": 339,
     "metadata": {},
     "output_type": "execute_result"
    }
   ],
   "source": [
    "#split the Americas into North America and South America, and rename Oceania into Australia and Oceania\n",
    "data.continent.value_counts()"
   ]
  },
  {
   "cell_type": "code",
   "execution_count": 340,
   "id": "76c5c95f",
   "metadata": {},
   "outputs": [],
   "source": [
    "data.loc[data.region == 'Northern America', 'continent'] = 'North America'\n",
    "data.loc[data.region == 'Latin America and the Caribbean', 'continent'] = 'South America'"
   ]
  },
  {
   "cell_type": "code",
   "execution_count": 341,
   "id": "bd5ed820",
   "metadata": {},
   "outputs": [],
   "source": [
    "data.loc[data.continent == 'Oceania', 'continent'] = 'Australia and Oceania'"
   ]
  },
  {
   "cell_type": "code",
   "execution_count": 342,
   "id": "949b7822",
   "metadata": {},
   "outputs": [
    {
     "data": {
      "text/plain": [
       "Europe                   9354\n",
       "Asia                     6953\n",
       "South America            5520\n",
       "Africa                   5308\n",
       "Australia and Oceania    1308\n",
       "North America             740\n",
       "Name: continent, dtype: int64"
      ]
     },
     "execution_count": 342,
     "metadata": {},
     "output_type": "execute_result"
    }
   ],
   "source": [
    "data.continent.value_counts()"
   ]
  },
  {
   "cell_type": "code",
   "execution_count": 343,
   "id": "2fa2a92d",
   "metadata": {},
   "outputs": [],
   "source": [
    "#saving progress\n",
    "data.to_pickle(\"vaccinations_merged.pkl\")"
   ]
  },
  {
   "cell_type": "markdown",
   "id": "3aa14d49",
   "metadata": {},
   "source": [
    "## Dealing with missing values"
   ]
  },
  {
   "cell_type": "code",
   "execution_count": 344,
   "id": "018719ae",
   "metadata": {},
   "outputs": [],
   "source": [
    "data = pd.read_pickle(\"vaccinations_merged.pkl\")"
   ]
  },
  {
   "cell_type": "code",
   "execution_count": 345,
   "id": "e714c440",
   "metadata": {},
   "outputs": [
    {
     "data": {
      "text/plain": [
       "date                                 0\n",
       "country                              0\n",
       "iso_code                             0\n",
       "daily_vaccinations                 241\n",
       "people_vaccinated_per_hundred    13851\n",
       "people_fully_vaccinated          16582\n",
       "vaccines                             0\n",
       "continent                          229\n",
       "region                             229\n",
       "dtype: int64"
      ]
     },
     "execution_count": 345,
     "metadata": {},
     "output_type": "execute_result"
    }
   ],
   "source": [
    "data.isnull().sum()"
   ]
  },
  {
   "cell_type": "code",
   "execution_count": 346,
   "id": "e86bc0b6",
   "metadata": {},
   "outputs": [
    {
     "data": {
      "text/plain": [
       "OWID_CYN    134\n",
       "OWID_KOS     95\n",
       "Name: iso_code, dtype: int64"
      ]
     },
     "execution_count": 346,
     "metadata": {},
     "output_type": "execute_result"
    }
   ],
   "source": [
    "data.loc[data.continent.isnull(), 'iso_code'].value_counts()"
   ]
  },
  {
   "cell_type": "markdown",
   "id": "e132434a",
   "metadata": {},
   "source": [
    "### Missing values: continent/region"
   ]
  },
  {
   "cell_type": "code",
   "execution_count": 347,
   "id": "d339c838",
   "metadata": {},
   "outputs": [],
   "source": [
    "#we're missing continent/region for Northern Cyprus and Kosovo.\n",
    "data.loc[data.country == 'Northern Cyprus', 'continent'] = 'Europe'\n",
    "data.loc[data.country == 'Northern Cyprus', 'region'] = 'Southern Europe'\n",
    "\n",
    "data.loc[data.country == 'Kosovo', 'continent'] = 'Asia'\n",
    "data.loc[data.country == 'Kosovo', 'region'] = 'Western Asia'"
   ]
  },
  {
   "cell_type": "code",
   "execution_count": 348,
   "id": "b8aac703",
   "metadata": {},
   "outputs": [
    {
     "data": {
      "text/plain": [
       "date                                 0\n",
       "country                              0\n",
       "iso_code                             0\n",
       "daily_vaccinations                 241\n",
       "people_vaccinated_per_hundred    13851\n",
       "people_fully_vaccinated          16582\n",
       "vaccines                             0\n",
       "continent                            0\n",
       "region                               0\n",
       "dtype: int64"
      ]
     },
     "execution_count": 348,
     "metadata": {},
     "output_type": "execute_result"
    }
   ],
   "source": [
    "#missing values for continent/region have been eliminated.\n",
    "data.isnull().sum()"
   ]
  },
  {
   "cell_type": "markdown",
   "id": "61c9c57e",
   "metadata": {},
   "source": [
    "### Missing values: daily_vaccinations"
   ]
  },
  {
   "cell_type": "code",
   "execution_count": 349,
   "id": "430520be",
   "metadata": {},
   "outputs": [
    {
     "data": {
      "text/plain": [
       "0.008193934448524412"
      ]
     },
     "execution_count": 349,
     "metadata": {},
     "output_type": "execute_result"
    }
   ],
   "source": [
    "#since missing values for daily_vaccinations makes up a very small percentage of the data...\n",
    "data.loc[data.daily_vaccinations.isnull()].shape[0] / data.shape[0]"
   ]
  },
  {
   "cell_type": "code",
   "execution_count": 350,
   "id": "2e4916d1",
   "metadata": {},
   "outputs": [],
   "source": [
    "#I'm going to choose to delete those rows.\n",
    "data = data[~data.daily_vaccinations.isnull()]"
   ]
  },
  {
   "cell_type": "markdown",
   "id": "3d722471",
   "metadata": {},
   "source": [
    "### Missing values: people_vaccinated_per_hundred"
   ]
  },
  {
   "cell_type": "code",
   "execution_count": 351,
   "id": "24f3c2ae",
   "metadata": {},
   "outputs": [
    {
     "data": {
      "text/plain": [
       "0.47410099070995165"
      ]
     },
     "execution_count": 351,
     "metadata": {},
     "output_type": "execute_result"
    }
   ],
   "source": [
    "#people_vaccinated_per_hundred is more problematic, however. \n",
    "data.loc[data.people_vaccinated_per_hundred.isnull()].shape[0] / data.shape[0]"
   ]
  },
  {
   "cell_type": "code",
   "execution_count": 352,
   "id": "09383af0",
   "metadata": {},
   "outputs": [
    {
     "data": {
      "image/png": "[encoded data removed]",
      "text/plain": [
       "<Figure size 1080x360 with 1 Axes>"
      ]
     },
     "metadata": {
      "needs_background": "light"
     },
     "output_type": "display_data"
    }
   ],
   "source": [
    "#visualizing percentage of missing people_vaccinated_per_hundred data by region\n",
    "(data[data.people_vaccinated_per_hundred.isnull()].region.value_counts() / data.region.value_counts()\n",
    ").mul(100).plot.barh(color=\"teal\", figsize=(15,5))\n",
    "\n",
    "plt.title('Missing people_vaccinated_per_hundred')\n",
    "plt.xlabel('percentage (%)')\n",
    "plt.show()"
   ]
  },
  {
   "cell_type": "code",
   "execution_count": 353,
   "id": "69c053ec",
   "metadata": {},
   "outputs": [],
   "source": [
    "#for countries that have people_vaccinated_per_hundred data at some point, we'll replace its missing values with the most recent\n",
    "data.sort_values(by='date', inplace=True)\n",
    "all_countries = list(data.country.unique())\n",
    "\n",
    "for country in all_countries:\n",
    "    data.loc[data.country == country, 'people_vaccinated_per_hundred'] = \\\n",
    "    data.loc[data.country == country, 'people_vaccinated_per_hundred'].fillna(method='bfill').fillna(method='ffill')"
   ]
  },
  {
   "cell_type": "code",
   "execution_count": 354,
   "id": "ead860d2",
   "metadata": {},
   "outputs": [
    {
     "data": {
      "text/plain": [
       "0.0"
      ]
     },
     "execution_count": 354,
     "metadata": {},
     "output_type": "execute_result"
    }
   ],
   "source": [
    "#cool, we've eliminated all missing values for people_vaccinated_per_hundred,\n",
    "#replacing them with the most recent data we could find\n",
    "data.loc[data.people_vaccinated_per_hundred.isnull()].shape[0] / data.shape[0]"
   ]
  },
  {
   "cell_type": "markdown",
   "id": "40ad8587",
   "metadata": {},
   "source": [
    "### Missing values: people_fully_vaccinated"
   ]
  },
  {
   "cell_type": "code",
   "execution_count": 355,
   "id": "67aafc58",
   "metadata": {},
   "outputs": [],
   "source": [
    "#same treatment for people_fully_vaccinated\n",
    "data.sort_values(by='date', inplace=True)\n",
    "all_countries = list(data.country.unique())\n",
    "\n",
    "for country in all_countries:\n",
    "    data.loc[data.country == country, 'people_fully_vaccinated'] = \\\n",
    "    data.loc[data.country == country, 'people_fully_vaccinated'].fillna(method='bfill').fillna(method='ffill')"
   ]
  },
  {
   "cell_type": "code",
   "execution_count": 356,
   "id": "eb18ac9d",
   "metadata": {},
   "outputs": [
    {
     "data": {
      "text/plain": [
       "0.035549004147955164"
      ]
     },
     "execution_count": 356,
     "metadata": {},
     "output_type": "execute_result"
    }
   ],
   "source": [
    "#we've narrowed missing people_fully_vaccinated values down to <4%. Since we're not going to take\n",
    "#averages on this column, we can keep these remaining missing values.\n",
    "data.loc[data.people_fully_vaccinated.isnull()].shape[0] / data.shape[0]"
   ]
  },
  {
   "cell_type": "code",
   "execution_count": 357,
   "id": "e4c2306a",
   "metadata": {},
   "outputs": [
    {
     "data": {
      "text/plain": [
       "date                                0\n",
       "country                             0\n",
       "iso_code                            0\n",
       "daily_vaccinations                  0\n",
       "people_vaccinated_per_hundred       0\n",
       "people_fully_vaccinated          1037\n",
       "vaccines                            0\n",
       "continent                           0\n",
       "region                              0\n",
       "dtype: int64"
      ]
     },
     "execution_count": 357,
     "metadata": {},
     "output_type": "execute_result"
    }
   ],
   "source": [
    "data.isnull().sum()"
   ]
  },
  {
   "cell_type": "code",
   "execution_count": 358,
   "id": "36368965",
   "metadata": {},
   "outputs": [],
   "source": [
    "#saving progress\n",
    "data.to_pickle(\"vaccinations_cleaned.pkl\")"
   ]
  },
  {
   "cell_type": "markdown",
   "id": "461b4573",
   "metadata": {},
   "source": [
    "## Data Analysis"
   ]
  },
  {
   "cell_type": "code",
   "execution_count": 359,
   "id": "d523dc2f",
   "metadata": {},
   "outputs": [],
   "source": [
    "data = pd.read_pickle(\"vaccinations_cleaned.pkl\")"
   ]
  },
  {
   "cell_type": "markdown",
   "id": "fd07702b",
   "metadata": {},
   "source": [
    "### Predicting population vaccination percentages using fbprophet time-series model"
   ]
  },
  {
   "cell_type": "markdown",
   "id": "e8327bf6",
   "metadata": {},
   "source": [
    "#defining a function to make a timeseries prediction\n",
    "def fbprophet_predict_and_plot(data, region_column, region, vaccination_metric, \n",
    "                               min_date = '2020-12-13', max_date='2021-07-06', future_days=10, plot=True):\n",
    "    df = data[(data[region_column] == region) & (data.date <= max_date) & (data.date >= min_date)]\n",
    "    df = df[['date', vaccination_metric]]\n",
    "    df.columns = ['ds', 'y']\n",
    "    model = Prophet(interval_width = 0.95)\n",
    "    model.fit(df)\n",
    "    future = model.make_future_dataframe(periods=future_days)\n",
    "    forecast = model.predict(future)\n",
    "    if plot:\n",
    "        fig = plot_plotly(model, forecast)\n",
    "        fig.show()\n",
    "    else:\n",
    "        return forecast"
   ]
  },
  {
   "cell_type": "markdown",
   "id": "fc2d7951",
   "metadata": {},
   "source": [
    "#China, India, US, Indonesia, Pakistan\n",
    "fbprophet_predict_and_plot(data = data, \n",
    "                           region_column = 'country',\n",
    "                           region = 'United States',\n",
    "                           vaccination_metric = 'people_vaccinated_per_hundred',\n",
    "                           future_days = 70,\n",
    "                          )"
   ]
  },
  {
   "cell_type": "markdown",
   "id": "63ca3517",
   "metadata": {},
   "source": [
    "### Linear Regression"
   ]
  },
  {
   "cell_type": "code",
   "execution_count": 360,
   "id": "cc0424e3",
   "metadata": {},
   "outputs": [],
   "source": [
    "from sklearn.model_selection import train_test_split"
   ]
  },
  {
   "cell_type": "code",
   "execution_count": 361,
   "id": "62985e9d",
   "metadata": {},
   "outputs": [],
   "source": [
    "#grab US-specific data\n",
    "USdata = pd.DataFrame(data[data.country == \"United States\"])"
   ]
  },
  {
   "cell_type": "code",
   "execution_count": 362,
   "id": "9c3d1c0f",
   "metadata": {},
   "outputs": [],
   "source": [
    "import datetime"
   ]
  },
  {
   "cell_type": "code",
   "execution_count": 363,
   "id": "f8f4876a",
   "metadata": {
    "scrolled": true
   },
   "outputs": [
    {
     "data": {
      "text/plain": [
       "date                              object\n",
       "country                           object\n",
       "iso_code                          object\n",
       "daily_vaccinations               float64\n",
       "people_vaccinated_per_hundred    float64\n",
       "people_fully_vaccinated          float64\n",
       "vaccines                          object\n",
       "continent                         object\n",
       "region                            object\n",
       "dateToInt                          int64\n",
       "dtype: object"
      ]
     },
     "execution_count": 363,
     "metadata": {},
     "output_type": "execute_result"
    }
   ],
   "source": [
    "#USdata['date'] = pd.to_datetime(USdata.date, format=\"%Y-%m-%d\")\n",
    "\n",
    "#USdata['dateToInt'] = pd.to_datetime(USdata['date']).view(np.int64)\n",
    "#USdata['dateToInt'] /= 10**(11)\n",
    "\n",
    "#USdata['dateToInt'] = USdata['date'].apply(to_integer)\n",
    "\n",
    "USdata['dateToInt'] = pd.to_datetime(USdata['date'])\n",
    "USdata['dateToInt'] = USdata['dateToInt'].map(datetime.datetime.toordinal)\n",
    "\n",
    "USdata.dtypes"
   ]
  },
  {
   "cell_type": "code",
   "execution_count": 364,
   "id": "d0f96f2b",
   "metadata": {},
   "outputs": [],
   "source": [
    "def dateOf(k):\n",
    "    return datetime.date.fromordinal(k)"
   ]
  },
  {
   "cell_type": "code",
   "execution_count": 365,
   "id": "983c7605",
   "metadata": {
    "scrolled": true
   },
   "outputs": [
    {
     "data": {
      "text/html": [
       "<div>\n",
       "<style scoped>\n",
       "    .dataframe tbody tr th:only-of-type {\n",
       "        vertical-align: middle;\n",
       "    }\n",
       "\n",
       "    .dataframe tbody tr th {\n",
       "        vertical-align: top;\n",
       "    }\n",
       "\n",
       "    .dataframe thead th {\n",
       "        text-align: right;\n",
       "    }\n",
       "</style>\n",
       "<table border=\"1\" class=\"dataframe\">\n",
       "  <thead>\n",
       "    <tr style=\"text-align: right;\">\n",
       "      <th></th>\n",
       "      <th>date</th>\n",
       "      <th>country</th>\n",
       "      <th>iso_code</th>\n",
       "      <th>daily_vaccinations</th>\n",
       "      <th>people_vaccinated_per_hundred</th>\n",
       "      <th>people_fully_vaccinated</th>\n",
       "      <th>vaccines</th>\n",
       "      <th>continent</th>\n",
       "      <th>region</th>\n",
       "      <th>dateToInt</th>\n",
       "    </tr>\n",
       "  </thead>\n",
       "  <tbody>\n",
       "    <tr>\n",
       "      <th>28307</th>\n",
       "      <td>2021-07-02</td>\n",
       "      <td>United States</td>\n",
       "      <td>USA</td>\n",
       "      <td>1087156.00</td>\n",
       "      <td>54.31</td>\n",
       "      <td>156255896.00</td>\n",
       "      <td>Johnson&amp;Johnson, Moderna, Pfizer/BioNTech</td>\n",
       "      <td>North America</td>\n",
       "      <td>Northern America</td>\n",
       "      <td>737973</td>\n",
       "    </tr>\n",
       "    <tr>\n",
       "      <th>28308</th>\n",
       "      <td>2021-07-03</td>\n",
       "      <td>United States</td>\n",
       "      <td>USA</td>\n",
       "      <td>1121064.00</td>\n",
       "      <td>54.45</td>\n",
       "      <td>156982549.00</td>\n",
       "      <td>Johnson&amp;Johnson, Moderna, Pfizer/BioNTech</td>\n",
       "      <td>North America</td>\n",
       "      <td>Northern America</td>\n",
       "      <td>737974</td>\n",
       "    </tr>\n",
       "    <tr>\n",
       "      <th>28309</th>\n",
       "      <td>2021-07-04</td>\n",
       "      <td>United States</td>\n",
       "      <td>USA</td>\n",
       "      <td>1039561.00</td>\n",
       "      <td>54.54</td>\n",
       "      <td>157323738.00</td>\n",
       "      <td>Johnson&amp;Johnson, Moderna, Pfizer/BioNTech</td>\n",
       "      <td>North America</td>\n",
       "      <td>Northern America</td>\n",
       "      <td>737975</td>\n",
       "    </tr>\n",
       "    <tr>\n",
       "      <th>28310</th>\n",
       "      <td>2021-07-05</td>\n",
       "      <td>United States</td>\n",
       "      <td>USA</td>\n",
       "      <td>927847.00</td>\n",
       "      <td>54.63</td>\n",
       "      <td>157636088.00</td>\n",
       "      <td>Johnson&amp;Johnson, Moderna, Pfizer/BioNTech</td>\n",
       "      <td>North America</td>\n",
       "      <td>Northern America</td>\n",
       "      <td>737976</td>\n",
       "    </tr>\n",
       "    <tr>\n",
       "      <th>28311</th>\n",
       "      <td>2021-07-06</td>\n",
       "      <td>United States</td>\n",
       "      <td>USA</td>\n",
       "      <td>865929.00</td>\n",
       "      <td>54.63</td>\n",
       "      <td>157636088.00</td>\n",
       "      <td>Johnson&amp;Johnson, Moderna, Pfizer/BioNTech</td>\n",
       "      <td>North America</td>\n",
       "      <td>Northern America</td>\n",
       "      <td>737977</td>\n",
       "    </tr>\n",
       "  </tbody>\n",
       "</table>\n",
       "</div>"
      ],
      "text/plain": [
       "             date        country iso_code  daily_vaccinations  \\\n",
       "28307  2021-07-02  United States      USA          1087156.00   \n",
       "28308  2021-07-03  United States      USA          1121064.00   \n",
       "28309  2021-07-04  United States      USA          1039561.00   \n",
       "28310  2021-07-05  United States      USA           927847.00   \n",
       "28311  2021-07-06  United States      USA           865929.00   \n",
       "\n",
       "       people_vaccinated_per_hundred  people_fully_vaccinated  \\\n",
       "28307                          54.31             156255896.00   \n",
       "28308                          54.45             156982549.00   \n",
       "28309                          54.54             157323738.00   \n",
       "28310                          54.63             157636088.00   \n",
       "28311                          54.63             157636088.00   \n",
       "\n",
       "                                        vaccines      continent  \\\n",
       "28307  Johnson&Johnson, Moderna, Pfizer/BioNTech  North America   \n",
       "28308  Johnson&Johnson, Moderna, Pfizer/BioNTech  North America   \n",
       "28309  Johnson&Johnson, Moderna, Pfizer/BioNTech  North America   \n",
       "28310  Johnson&Johnson, Moderna, Pfizer/BioNTech  North America   \n",
       "28311  Johnson&Johnson, Moderna, Pfizer/BioNTech  North America   \n",
       "\n",
       "                 region  dateToInt  \n",
       "28307  Northern America     737973  \n",
       "28308  Northern America     737974  \n",
       "28309  Northern America     737975  \n",
       "28310  Northern America     737976  \n",
       "28311  Northern America     737977  "
      ]
     },
     "execution_count": 365,
     "metadata": {},
     "output_type": "execute_result"
    }
   ],
   "source": [
    "USdata.tail()"
   ]
  },
  {
   "cell_type": "code",
   "execution_count": 366,
   "id": "c7dffd63",
   "metadata": {},
   "outputs": [],
   "source": [
    "train, test = \\\n",
    "train_test_split(USdata, test_size=0.2, shuffle=False)"
   ]
  },
  {
   "cell_type": "code",
   "execution_count": 367,
   "id": "e1b26a92",
   "metadata": {},
   "outputs": [
    {
     "data": {
      "text/html": [
       "<div>\n",
       "<style scoped>\n",
       "    .dataframe tbody tr th:only-of-type {\n",
       "        vertical-align: middle;\n",
       "    }\n",
       "\n",
       "    .dataframe tbody tr th {\n",
       "        vertical-align: top;\n",
       "    }\n",
       "\n",
       "    .dataframe thead th {\n",
       "        text-align: right;\n",
       "    }\n",
       "</style>\n",
       "<table border=\"1\" class=\"dataframe\">\n",
       "  <thead>\n",
       "    <tr style=\"text-align: right;\">\n",
       "      <th></th>\n",
       "      <th>date</th>\n",
       "      <th>country</th>\n",
       "      <th>iso_code</th>\n",
       "      <th>daily_vaccinations</th>\n",
       "      <th>people_vaccinated_per_hundred</th>\n",
       "      <th>people_fully_vaccinated</th>\n",
       "      <th>vaccines</th>\n",
       "      <th>continent</th>\n",
       "      <th>region</th>\n",
       "      <th>dateToInt</th>\n",
       "    </tr>\n",
       "  </thead>\n",
       "  <tbody>\n",
       "    <tr>\n",
       "      <th>28267</th>\n",
       "      <td>2021-05-23</td>\n",
       "      <td>United States</td>\n",
       "      <td>USA</td>\n",
       "      <td>1827882.00</td>\n",
       "      <td>48.83</td>\n",
       "      <td>130014175.00</td>\n",
       "      <td>Johnson&amp;Johnson, Moderna, Pfizer/BioNTech</td>\n",
       "      <td>North America</td>\n",
       "      <td>Northern America</td>\n",
       "      <td>737933</td>\n",
       "    </tr>\n",
       "    <tr>\n",
       "      <th>28268</th>\n",
       "      <td>2021-05-24</td>\n",
       "      <td>United States</td>\n",
       "      <td>USA</td>\n",
       "      <td>1782714.00</td>\n",
       "      <td>49.01</td>\n",
       "      <td>130615797.00</td>\n",
       "      <td>Johnson&amp;Johnson, Moderna, Pfizer/BioNTech</td>\n",
       "      <td>North America</td>\n",
       "      <td>Northern America</td>\n",
       "      <td>737934</td>\n",
       "    </tr>\n",
       "    <tr>\n",
       "      <th>28269</th>\n",
       "      <td>2021-05-25</td>\n",
       "      <td>United States</td>\n",
       "      <td>USA</td>\n",
       "      <td>1750524.00</td>\n",
       "      <td>49.15</td>\n",
       "      <td>131078608.00</td>\n",
       "      <td>Johnson&amp;Johnson, Moderna, Pfizer/BioNTech</td>\n",
       "      <td>North America</td>\n",
       "      <td>Northern America</td>\n",
       "      <td>737935</td>\n",
       "    </tr>\n",
       "    <tr>\n",
       "      <th>28270</th>\n",
       "      <td>2021-05-26</td>\n",
       "      <td>United States</td>\n",
       "      <td>USA</td>\n",
       "      <td>1703162.00</td>\n",
       "      <td>49.36</td>\n",
       "      <td>131850089.00</td>\n",
       "      <td>Johnson&amp;Johnson, Moderna, Pfizer/BioNTech</td>\n",
       "      <td>North America</td>\n",
       "      <td>Northern America</td>\n",
       "      <td>737936</td>\n",
       "    </tr>\n",
       "    <tr>\n",
       "      <th>28271</th>\n",
       "      <td>2021-05-27</td>\n",
       "      <td>United States</td>\n",
       "      <td>USA</td>\n",
       "      <td>1618194.00</td>\n",
       "      <td>49.55</td>\n",
       "      <td>132769894.00</td>\n",
       "      <td>Johnson&amp;Johnson, Moderna, Pfizer/BioNTech</td>\n",
       "      <td>North America</td>\n",
       "      <td>Northern America</td>\n",
       "      <td>737937</td>\n",
       "    </tr>\n",
       "  </tbody>\n",
       "</table>\n",
       "</div>"
      ],
      "text/plain": [
       "             date        country iso_code  daily_vaccinations  \\\n",
       "28267  2021-05-23  United States      USA          1827882.00   \n",
       "28268  2021-05-24  United States      USA          1782714.00   \n",
       "28269  2021-05-25  United States      USA          1750524.00   \n",
       "28270  2021-05-26  United States      USA          1703162.00   \n",
       "28271  2021-05-27  United States      USA          1618194.00   \n",
       "\n",
       "       people_vaccinated_per_hundred  people_fully_vaccinated  \\\n",
       "28267                          48.83             130014175.00   \n",
       "28268                          49.01             130615797.00   \n",
       "28269                          49.15             131078608.00   \n",
       "28270                          49.36             131850089.00   \n",
       "28271                          49.55             132769894.00   \n",
       "\n",
       "                                        vaccines      continent  \\\n",
       "28267  Johnson&Johnson, Moderna, Pfizer/BioNTech  North America   \n",
       "28268  Johnson&Johnson, Moderna, Pfizer/BioNTech  North America   \n",
       "28269  Johnson&Johnson, Moderna, Pfizer/BioNTech  North America   \n",
       "28270  Johnson&Johnson, Moderna, Pfizer/BioNTech  North America   \n",
       "28271  Johnson&Johnson, Moderna, Pfizer/BioNTech  North America   \n",
       "\n",
       "                 region  dateToInt  \n",
       "28267  Northern America     737933  \n",
       "28268  Northern America     737934  \n",
       "28269  Northern America     737935  \n",
       "28270  Northern America     737936  \n",
       "28271  Northern America     737937  "
      ]
     },
     "execution_count": 367,
     "metadata": {},
     "output_type": "execute_result"
    }
   ],
   "source": [
    "train.tail()"
   ]
  },
  {
   "cell_type": "code",
   "execution_count": 368,
   "id": "8b114e19",
   "metadata": {
    "scrolled": true
   },
   "outputs": [
    {
     "data": {
      "text/plain": [
       "datetime.date(2021, 5, 27)"
      ]
     },
     "execution_count": 368,
     "metadata": {},
     "output_type": "execute_result"
    }
   ],
   "source": [
    "dateOf(737937) #train/test split at May 27-28 2021"
   ]
  },
  {
   "cell_type": "code",
   "execution_count": 369,
   "id": "bd95c202",
   "metadata": {
    "scrolled": true
   },
   "outputs": [],
   "source": [
    "from sklearn.linear_model import LinearRegression\n",
    "model = LinearRegression()"
   ]
  },
  {
   "cell_type": "code",
   "execution_count": 370,
   "id": "d8bda930",
   "metadata": {},
   "outputs": [
    {
     "data": {
      "text/plain": [
       "LinearRegression()"
      ]
     },
     "execution_count": 370,
     "metadata": {},
     "output_type": "execute_result"
    }
   ],
   "source": [
    "#fit date against people_vaccinated_per_hundred\n",
    "model.fit(X=train[['dateToInt']],y=train[['people_vaccinated_per_hundred']])"
   ]
  },
  {
   "cell_type": "code",
   "execution_count": 371,
   "id": "a6457bbf",
   "metadata": {},
   "outputs": [
    {
     "data": {
      "text/plain": [
       "array([-264623.99891263])"
      ]
     },
     "execution_count": 371,
     "metadata": {},
     "output_type": "execute_result"
    }
   ],
   "source": [
    "model.intercept_"
   ]
  },
  {
   "cell_type": "code",
   "execution_count": 372,
   "id": "0bf0b785",
   "metadata": {},
   "outputs": [
    {
     "data": {
      "text/plain": [
       "array([[0.35866787]])"
      ]
     },
     "execution_count": 372,
     "metadata": {},
     "output_type": "execute_result"
    }
   ],
   "source": [
    "model.coef_"
   ]
  },
  {
   "cell_type": "code",
   "execution_count": 373,
   "id": "3e341699",
   "metadata": {
    "scrolled": false
   },
   "outputs": [
    {
     "data": {
      "image/png": "[encoded data removed]",
      "text/plain": [
       "<Figure size 1440x720 with 1 Axes>"
      ]
     },
     "metadata": {
      "needs_background": "light"
     },
     "output_type": "display_data"
    }
   ],
   "source": [
    "plt.figure(figsize=(20, 10))\n",
    "plt.xlim(737780,738050)\n",
    "plt.ylim(0,90)\n",
    "plt.axvline(737938, color='green',linestyle='--')\n",
    "plt.axvline(737992, ymax=0.78, color='purple',alpha=150)\n",
    "plt.axhline(70, color='purple', xmax=0.785, alpha=150)\n",
    "ax.set_xlim(738050)\n",
    "plt.rcParams.update({'font.size': 25})\n",
    "plot = sns.regplot(x=train[['dateToInt']], y=train['people_vaccinated_per_hundred'], \n",
    "                   scatter_kws={'color': 'black'}, truncate=False)\n",
    "plot.yaxis.labelpad,plot.xaxis.labelpad = 40,60\n"
   ]
  },
  {
   "cell_type": "markdown",
   "id": "601432c9",
   "metadata": {},
   "source": [
    "y_pred = model.predict(np.asarray(USdata[[\"dateToInt\"]]).reshape(-1, 1))\n",
    "USdata['pred'] = y_pred\n",
    "\n",
    "ax = USdata.plot(x='dateToInt', y='people_vaccinated_per_hundred', color='black', style='.')\n",
    "USdata.plot(x='dateToInt', y='pred', color='orange', linewidth=3, ax=ax, alpha=0.5)\n",
    "ax.set_title('My Title')\n",
    "ax.set_xlabel('Date')\n",
    "ax.set_ylabel('people_vaccinated_per_hundred')\n",
    "\n",
    "plt.show()\n",
    "#locs,labels = plt.xticks()"
   ]
  },
  {
   "cell_type": "markdown",
   "id": "1047c271",
   "metadata": {},
   "source": [
    "### Linear Regression math & eval"
   ]
  },
  {
   "cell_type": "code",
   "execution_count": 374,
   "id": "8be6951b",
   "metadata": {
    "scrolled": true
   },
   "outputs": [
    {
     "data": {
      "text/plain": [
       "array([[737991.95215583]])"
      ]
     },
     "execution_count": 374,
     "metadata": {},
     "output_type": "execute_result"
    }
   ],
   "source": [
    "#70 = model.intercept_ + model.coef_*Date\n",
    "(70 - model.intercept_)/model.coef_ #rounds to 737992"
   ]
  },
  {
   "cell_type": "code",
   "execution_count": 375,
   "id": "c2ff5a3c",
   "metadata": {},
   "outputs": [
    {
     "data": {
      "text/plain": [
       "datetime.date(2021, 7, 21)"
      ]
     },
     "execution_count": 375,
     "metadata": {},
     "output_type": "execute_result"
    }
   ],
   "source": [
    "dateOf(737992)"
   ]
  },
  {
   "cell_type": "code",
   "execution_count": 376,
   "id": "b2a7d439",
   "metadata": {},
   "outputs": [
    {
     "data": {
      "text/plain": [
       "array([50.64909538, 51.00776325, 51.36643111, 51.72509898, 52.08376685,\n",
       "       52.44243471, 52.80110258, 53.15977045, 53.51843831, 53.87710618,\n",
       "       54.23577404, 54.59444191, 54.95310978, 55.31177764, 55.67044551,\n",
       "       56.02911338, 56.38778124, 56.74644911, 57.10511698, 57.46378484,\n",
       "       57.82245271, 58.18112057, 58.53978844, 58.89845631, 59.25712417,\n",
       "       59.61579204, 59.97445991, 60.33312777, 60.69179564, 61.05046351,\n",
       "       61.40913137, 61.76779924, 62.12646711, 62.48513497, 62.84380284,\n",
       "       63.2024707 , 63.56113857, 63.91980644, 64.2784743 , 64.63714217])"
      ]
     },
     "execution_count": 376,
     "metadata": {},
     "output_type": "execute_result"
    }
   ],
   "source": [
    "y_pred = model.predict(test[['dateToInt']])\n",
    "y_pred = y_pred.flatten()\n",
    "y_pred"
   ]
  },
  {
   "cell_type": "code",
   "execution_count": 377,
   "id": "34e275d7",
   "metadata": {},
   "outputs": [
    {
     "data": {
      "text/html": [
       "<div>\n",
       "<style scoped>\n",
       "    .dataframe tbody tr th:only-of-type {\n",
       "        vertical-align: middle;\n",
       "    }\n",
       "\n",
       "    .dataframe tbody tr th {\n",
       "        vertical-align: top;\n",
       "    }\n",
       "\n",
       "    .dataframe thead th {\n",
       "        text-align: right;\n",
       "    }\n",
       "</style>\n",
       "<table border=\"1\" class=\"dataframe\">\n",
       "  <thead>\n",
       "    <tr style=\"text-align: right;\">\n",
       "      <th></th>\n",
       "      <th>actual</th>\n",
       "      <th>predicted</th>\n",
       "      <th>residual</th>\n",
       "    </tr>\n",
       "  </thead>\n",
       "  <tbody>\n",
       "    <tr>\n",
       "      <th>28272</th>\n",
       "      <td>49.75</td>\n",
       "      <td>50.65</td>\n",
       "      <td>-0.90</td>\n",
       "    </tr>\n",
       "    <tr>\n",
       "      <th>28273</th>\n",
       "      <td>49.98</td>\n",
       "      <td>51.01</td>\n",
       "      <td>-1.03</td>\n",
       "    </tr>\n",
       "    <tr>\n",
       "      <th>28274</th>\n",
       "      <td>50.15</td>\n",
       "      <td>51.37</td>\n",
       "      <td>-1.22</td>\n",
       "    </tr>\n",
       "    <tr>\n",
       "      <th>28275</th>\n",
       "      <td>50.38</td>\n",
       "      <td>51.73</td>\n",
       "      <td>-1.35</td>\n",
       "    </tr>\n",
       "    <tr>\n",
       "      <th>28276</th>\n",
       "      <td>50.38</td>\n",
       "      <td>52.08</td>\n",
       "      <td>-1.70</td>\n",
       "    </tr>\n",
       "    <tr>\n",
       "      <th>28277</th>\n",
       "      <td>50.45</td>\n",
       "      <td>52.44</td>\n",
       "      <td>-1.99</td>\n",
       "    </tr>\n",
       "    <tr>\n",
       "      <th>28278</th>\n",
       "      <td>50.56</td>\n",
       "      <td>52.80</td>\n",
       "      <td>-2.24</td>\n",
       "    </tr>\n",
       "    <tr>\n",
       "      <th>28279</th>\n",
       "      <td>50.75</td>\n",
       "      <td>53.16</td>\n",
       "      <td>-2.41</td>\n",
       "    </tr>\n",
       "    <tr>\n",
       "      <th>28280</th>\n",
       "      <td>50.91</td>\n",
       "      <td>53.52</td>\n",
       "      <td>-2.61</td>\n",
       "    </tr>\n",
       "    <tr>\n",
       "      <th>28281</th>\n",
       "      <td>51.08</td>\n",
       "      <td>53.88</td>\n",
       "      <td>-2.80</td>\n",
       "    </tr>\n",
       "    <tr>\n",
       "      <th>28282</th>\n",
       "      <td>51.22</td>\n",
       "      <td>54.24</td>\n",
       "      <td>-3.02</td>\n",
       "    </tr>\n",
       "    <tr>\n",
       "      <th>28283</th>\n",
       "      <td>51.35</td>\n",
       "      <td>54.59</td>\n",
       "      <td>-3.24</td>\n",
       "    </tr>\n",
       "    <tr>\n",
       "      <th>28284</th>\n",
       "      <td>51.45</td>\n",
       "      <td>54.95</td>\n",
       "      <td>-3.50</td>\n",
       "    </tr>\n",
       "    <tr>\n",
       "      <th>28285</th>\n",
       "      <td>51.56</td>\n",
       "      <td>55.31</td>\n",
       "      <td>-3.75</td>\n",
       "    </tr>\n",
       "    <tr>\n",
       "      <th>28286</th>\n",
       "      <td>51.66</td>\n",
       "      <td>55.67</td>\n",
       "      <td>-4.01</td>\n",
       "    </tr>\n",
       "    <tr>\n",
       "      <th>28287</th>\n",
       "      <td>51.85</td>\n",
       "      <td>56.03</td>\n",
       "      <td>-4.18</td>\n",
       "    </tr>\n",
       "    <tr>\n",
       "      <th>28288</th>\n",
       "      <td>51.98</td>\n",
       "      <td>56.39</td>\n",
       "      <td>-4.41</td>\n",
       "    </tr>\n",
       "    <tr>\n",
       "      <th>28289</th>\n",
       "      <td>52.10</td>\n",
       "      <td>56.75</td>\n",
       "      <td>-4.65</td>\n",
       "    </tr>\n",
       "    <tr>\n",
       "      <th>28290</th>\n",
       "      <td>52.23</td>\n",
       "      <td>57.11</td>\n",
       "      <td>-4.88</td>\n",
       "    </tr>\n",
       "    <tr>\n",
       "      <th>28291</th>\n",
       "      <td>52.34</td>\n",
       "      <td>57.46</td>\n",
       "      <td>-5.12</td>\n",
       "    </tr>\n",
       "    <tr>\n",
       "      <th>28292</th>\n",
       "      <td>52.59</td>\n",
       "      <td>57.82</td>\n",
       "      <td>-5.23</td>\n",
       "    </tr>\n",
       "    <tr>\n",
       "      <th>28293</th>\n",
       "      <td>52.71</td>\n",
       "      <td>58.18</td>\n",
       "      <td>-5.47</td>\n",
       "    </tr>\n",
       "    <tr>\n",
       "      <th>28294</th>\n",
       "      <td>52.85</td>\n",
       "      <td>58.54</td>\n",
       "      <td>-5.69</td>\n",
       "    </tr>\n",
       "    <tr>\n",
       "      <th>28295</th>\n",
       "      <td>52.95</td>\n",
       "      <td>58.90</td>\n",
       "      <td>-5.95</td>\n",
       "    </tr>\n",
       "    <tr>\n",
       "      <th>28296</th>\n",
       "      <td>53.03</td>\n",
       "      <td>59.26</td>\n",
       "      <td>-6.23</td>\n",
       "    </tr>\n",
       "    <tr>\n",
       "      <th>28297</th>\n",
       "      <td>53.11</td>\n",
       "      <td>59.62</td>\n",
       "      <td>-6.51</td>\n",
       "    </tr>\n",
       "    <tr>\n",
       "      <th>28298</th>\n",
       "      <td>53.21</td>\n",
       "      <td>59.97</td>\n",
       "      <td>-6.76</td>\n",
       "    </tr>\n",
       "    <tr>\n",
       "      <th>28299</th>\n",
       "      <td>53.32</td>\n",
       "      <td>60.33</td>\n",
       "      <td>-7.01</td>\n",
       "    </tr>\n",
       "    <tr>\n",
       "      <th>28300</th>\n",
       "      <td>53.37</td>\n",
       "      <td>60.69</td>\n",
       "      <td>-7.32</td>\n",
       "    </tr>\n",
       "    <tr>\n",
       "      <th>28301</th>\n",
       "      <td>53.48</td>\n",
       "      <td>61.05</td>\n",
       "      <td>-7.57</td>\n",
       "    </tr>\n",
       "    <tr>\n",
       "      <th>28302</th>\n",
       "      <td>53.60</td>\n",
       "      <td>61.41</td>\n",
       "      <td>-7.81</td>\n",
       "    </tr>\n",
       "    <tr>\n",
       "      <th>28303</th>\n",
       "      <td>53.71</td>\n",
       "      <td>61.77</td>\n",
       "      <td>-8.06</td>\n",
       "    </tr>\n",
       "    <tr>\n",
       "      <th>28304</th>\n",
       "      <td>53.80</td>\n",
       "      <td>62.13</td>\n",
       "      <td>-8.33</td>\n",
       "    </tr>\n",
       "    <tr>\n",
       "      <th>28305</th>\n",
       "      <td>54.02</td>\n",
       "      <td>62.49</td>\n",
       "      <td>-8.47</td>\n",
       "    </tr>\n",
       "    <tr>\n",
       "      <th>28306</th>\n",
       "      <td>54.22</td>\n",
       "      <td>62.84</td>\n",
       "      <td>-8.62</td>\n",
       "    </tr>\n",
       "    <tr>\n",
       "      <th>28307</th>\n",
       "      <td>54.31</td>\n",
       "      <td>63.20</td>\n",
       "      <td>-8.89</td>\n",
       "    </tr>\n",
       "    <tr>\n",
       "      <th>28308</th>\n",
       "      <td>54.45</td>\n",
       "      <td>63.56</td>\n",
       "      <td>-9.11</td>\n",
       "    </tr>\n",
       "    <tr>\n",
       "      <th>28309</th>\n",
       "      <td>54.54</td>\n",
       "      <td>63.92</td>\n",
       "      <td>-9.38</td>\n",
       "    </tr>\n",
       "    <tr>\n",
       "      <th>28310</th>\n",
       "      <td>54.63</td>\n",
       "      <td>64.28</td>\n",
       "      <td>-9.65</td>\n",
       "    </tr>\n",
       "    <tr>\n",
       "      <th>28311</th>\n",
       "      <td>54.63</td>\n",
       "      <td>64.64</td>\n",
       "      <td>-10.01</td>\n",
       "    </tr>\n",
       "  </tbody>\n",
       "</table>\n",
       "</div>"
      ],
      "text/plain": [
       "       actual  predicted  residual\n",
       "28272   49.75      50.65     -0.90\n",
       "28273   49.98      51.01     -1.03\n",
       "28274   50.15      51.37     -1.22\n",
       "28275   50.38      51.73     -1.35\n",
       "28276   50.38      52.08     -1.70\n",
       "28277   50.45      52.44     -1.99\n",
       "28278   50.56      52.80     -2.24\n",
       "28279   50.75      53.16     -2.41\n",
       "28280   50.91      53.52     -2.61\n",
       "28281   51.08      53.88     -2.80\n",
       "28282   51.22      54.24     -3.02\n",
       "28283   51.35      54.59     -3.24\n",
       "28284   51.45      54.95     -3.50\n",
       "28285   51.56      55.31     -3.75\n",
       "28286   51.66      55.67     -4.01\n",
       "28287   51.85      56.03     -4.18\n",
       "28288   51.98      56.39     -4.41\n",
       "28289   52.10      56.75     -4.65\n",
       "28290   52.23      57.11     -4.88\n",
       "28291   52.34      57.46     -5.12\n",
       "28292   52.59      57.82     -5.23\n",
       "28293   52.71      58.18     -5.47\n",
       "28294   52.85      58.54     -5.69\n",
       "28295   52.95      58.90     -5.95\n",
       "28296   53.03      59.26     -6.23\n",
       "28297   53.11      59.62     -6.51\n",
       "28298   53.21      59.97     -6.76\n",
       "28299   53.32      60.33     -7.01\n",
       "28300   53.37      60.69     -7.32\n",
       "28301   53.48      61.05     -7.57\n",
       "28302   53.60      61.41     -7.81\n",
       "28303   53.71      61.77     -8.06\n",
       "28304   53.80      62.13     -8.33\n",
       "28305   54.02      62.49     -8.47\n",
       "28306   54.22      62.84     -8.62\n",
       "28307   54.31      63.20     -8.89\n",
       "28308   54.45      63.56     -9.11\n",
       "28309   54.54      63.92     -9.38\n",
       "28310   54.63      64.28     -9.65\n",
       "28311   54.63      64.64    -10.01"
      ]
     },
     "execution_count": 377,
     "metadata": {},
     "output_type": "execute_result"
    }
   ],
   "source": [
    "pred=pd.DataFrame( {'actual':test['people_vaccinated_per_hundred'], 'predicted':y_pred})\n",
    "pred['residual'] = pred.actual - pred.predicted\n",
    "\n",
    "pred"
   ]
  },
  {
   "cell_type": "code",
   "execution_count": 378,
   "id": "98a51d4c",
   "metadata": {},
   "outputs": [],
   "source": [
    "from sklearn.metrics import mean_squared_error, mean_absolute_error, r2_score"
   ]
  },
  {
   "cell_type": "code",
   "execution_count": 379,
   "id": "e955eaec",
   "metadata": {},
   "outputs": [
    {
     "data": {
      "text/plain": [
       "35.11620866946616"
      ]
     },
     "execution_count": 379,
     "metadata": {},
     "output_type": "execute_result"
    }
   ],
   "source": [
    "mean_squared_error(y_true=test['people_vaccinated_per_hundred'], y_pred=y_pred)"
   ]
  },
  {
   "cell_type": "code",
   "execution_count": 380,
   "id": "a569c09b",
   "metadata": {},
   "outputs": [
    {
     "data": {
      "text/plain": [
       "5.276618775263428"
      ]
     },
     "execution_count": 380,
     "metadata": {},
     "output_type": "execute_result"
    }
   ],
   "source": [
    "mean_absolute_error(y_true=test['people_vaccinated_per_hundred'], y_pred=y_pred)"
   ]
  },
  {
   "cell_type": "code",
   "execution_count": 384,
   "id": "811b219f",
   "metadata": {},
   "outputs": [
    {
     "data": {
      "text/plain": [
       "-15.770056329005648"
      ]
     },
     "execution_count": 384,
     "metadata": {},
     "output_type": "execute_result"
    }
   ],
   "source": [
    "r2_score(y_true=test['people_vaccinated_per_hundred'], y_pred=y_pred)"
   ]
  },
  {
   "cell_type": "markdown",
   "id": "16b8b93c",
   "metadata": {},
   "source": [
    "???????????"
   ]
  },
  {
   "cell_type": "code",
   "execution_count": 385,
   "id": "0661a97c",
   "metadata": {},
   "outputs": [
    {
     "data": {
      "text/plain": [
       "0.9872041534272916"
      ]
     },
     "execution_count": 385,
     "metadata": {},
     "output_type": "execute_result"
    }
   ],
   "source": [
    "RSS,TSS=0,0\n",
    "\n",
    "#Manual R2-Score\n",
    "for i in pred['residual']:\n",
    "    RSS += i**2\n",
    "\n",
    "for i in pred['actual']:\n",
    "    TSS += i**2\n",
    "    \n",
    "1-RSS/TSS"
   ]
  },
  {
   "cell_type": "code",
   "execution_count": null,
   "id": "4ea8af2b",
   "metadata": {},
   "outputs": [],
   "source": []
  },
  {
   "cell_type": "code",
   "execution_count": null,
   "id": "75b2a507",
   "metadata": {},
   "outputs": [],
   "source": []
  }
 ],
 "metadata": {
  "kernelspec": {
   "display_name": "Python 3",
   "language": "python",
   "name": "python3"
  },
  "language_info": {
   "codemirror_mode": {
    "name": "ipython",
    "version": 3
   },
   "file_extension": ".py",
   "mimetype": "text/x-python",
   "name": "python",
   "nbconvert_exporter": "python",
   "pygments_lexer": "ipython3",
   "version": "3.8.8"
  }
 },
 "nbformat": 4,
 "nbformat_minor": 5
}
